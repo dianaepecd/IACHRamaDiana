{
  "nbformat": 4,
  "nbformat_minor": 0,
  "metadata": {
    "colab": {
      "provenance": []
    },
    "kernelspec": {
      "name": "python3",
      "display_name": "Python 3"
    },
    "language_info": {
      "name": "python"
    }
  },
  "cells": [
    {
      "cell_type": "code",
      "source": [
        "!pip install git+https://github.com/modAL-python/modAL.git"
      ],
      "metadata": {
        "colab": {
          "base_uri": "https://localhost:8080/"
        },
        "id": "fEDu8vMT1WqK",
        "outputId": "b93ad73d-3b2f-4388-8c54-6e2a28886ee7"
      },
      "execution_count": 1,
      "outputs": [
        {
          "output_type": "stream",
          "name": "stdout",
          "text": [
            "Collecting git+https://github.com/modAL-python/modAL.git\n",
            "  Cloning https://github.com/modAL-python/modAL.git to /tmp/pip-req-build-jzvbfukt\n",
            "  Running command git clone --filter=blob:none --quiet https://github.com/modAL-python/modAL.git /tmp/pip-req-build-jzvbfukt\n",
            "  Resolved https://github.com/modAL-python/modAL.git to commit bba6f6fd00dbb862b1e09259b78caf6cffa2e755\n",
            "  Preparing metadata (setup.py) ... \u001b[?25l\u001b[?25hdone\n",
            "Requirement already satisfied: numpy in /usr/local/lib/python3.10/dist-packages (from modAL-python==0.4.2) (1.23.5)\n",
            "Requirement already satisfied: scikit-learn>=0.18 in /usr/local/lib/python3.10/dist-packages (from modAL-python==0.4.2) (1.2.2)\n",
            "Requirement already satisfied: scipy>=0.18 in /usr/local/lib/python3.10/dist-packages (from modAL-python==0.4.2) (1.11.3)\n",
            "Requirement already satisfied: pandas>=1.1.0 in /usr/local/lib/python3.10/dist-packages (from modAL-python==0.4.2) (1.5.3)\n",
            "Collecting skorch==0.9.0 (from modAL-python==0.4.2)\n",
            "  Downloading skorch-0.9.0-py3-none-any.whl (125 kB)\n",
            "\u001b[2K     \u001b[90m━━━━━━━━━━━━━━━━━━━━━━━━━━━━━━━━━━━━━━━━\u001b[0m \u001b[32m125.8/125.8 kB\u001b[0m \u001b[31m2.8 MB/s\u001b[0m eta \u001b[36m0:00:00\u001b[0m\n",
            "\u001b[?25hRequirement already satisfied: tabulate>=0.7.7 in /usr/local/lib/python3.10/dist-packages (from skorch==0.9.0->modAL-python==0.4.2) (0.9.0)\n",
            "Requirement already satisfied: tqdm>=4.14.0 in /usr/local/lib/python3.10/dist-packages (from skorch==0.9.0->modAL-python==0.4.2) (4.66.1)\n",
            "Requirement already satisfied: python-dateutil>=2.8.1 in /usr/local/lib/python3.10/dist-packages (from pandas>=1.1.0->modAL-python==0.4.2) (2.8.2)\n",
            "Requirement already satisfied: pytz>=2020.1 in /usr/local/lib/python3.10/dist-packages (from pandas>=1.1.0->modAL-python==0.4.2) (2023.3.post1)\n",
            "Requirement already satisfied: joblib>=1.1.1 in /usr/local/lib/python3.10/dist-packages (from scikit-learn>=0.18->modAL-python==0.4.2) (1.3.2)\n",
            "Requirement already satisfied: threadpoolctl>=2.0.0 in /usr/local/lib/python3.10/dist-packages (from scikit-learn>=0.18->modAL-python==0.4.2) (3.2.0)\n",
            "Requirement already satisfied: six>=1.5 in /usr/local/lib/python3.10/dist-packages (from python-dateutil>=2.8.1->pandas>=1.1.0->modAL-python==0.4.2) (1.16.0)\n",
            "Building wheels for collected packages: modAL-python\n",
            "  Building wheel for modAL-python (setup.py) ... \u001b[?25l\u001b[?25hdone\n",
            "  Created wheel for modAL-python: filename=modAL_python-0.4.2-py3-none-any.whl size=32649 sha256=a79b1e8ac465c1a496c5b7a5169d4204ec423532e2a0e02294db45cc89631897\n",
            "  Stored in directory: /tmp/pip-ephem-wheel-cache-8jzt796m/wheels/d9/fb/59/7deb61b460c1c36394cd093758986ff7d36f71352dcb2e02c5\n",
            "Successfully built modAL-python\n",
            "Installing collected packages: skorch, modAL-python\n",
            "Successfully installed modAL-python-0.4.2 skorch-0.9.0\n"
          ]
        }
      ]
    },
    {
      "cell_type": "code",
      "source": [
        "from sklearn.datasets import load_digits\n",
        "from sklearn.ensemble import RandomForestClassifier\n",
        "from sklearn.model_selection import train_test_split\n",
        "from modAL.models import Committee\n",
        "from modAL.disagreement import vote_entropy_sampling\n",
        "from modAL.models import ActiveLearner\n",
        "import matplotlib.pyplot as plt\n",
        "import random\n",
        "import math\n",
        "from modAL.disagreement import vote_entropy_sampling\n",
        "from sklearn.metrics import classification_report, confusion_matrix, roc_auc_score, log_loss\n",
        "import numpy as np\n"
      ],
      "metadata": {
        "id": "eDPS6N3IMxwa"
      },
      "execution_count": null,
      "outputs": []
    },
    {
      "cell_type": "code",
      "source": [
        "lista = []"
      ],
      "metadata": {
        "id": "YSL3nCk0W7R5"
      },
      "execution_count": null,
      "outputs": []
    },
    {
      "cell_type": "code",
      "source": [
        "def activeLearnersAllSameImportance(howmany, lista):\n",
        " # Load the digits dataset\n",
        "  digits = load_digits()\n",
        "  X = digits.data\n",
        "  y = digits.target\n",
        "\n",
        "  # Split the dataset into a training set and a test set with a test size of 80%\n",
        "  X_train, X_test, y_train, y_test = train_test_split(X, y, test_size=0.8, random_state=42)\n",
        "\n",
        "  # Initialize a list of ActiveLearner objects\n",
        "  learners = [ActiveLearner(estimator=RandomForestClassifier(n_estimators=50), X_training=X_train, y_training=y_train) for _ in range(howmany)]\n",
        "\n",
        "  # Create a Committee object\n",
        "  committee = Committee(\n",
        "  learner_list=learners,\n",
        "  query_strategy=vote_entropy_sampling\n",
        "  )\n",
        "\n",
        "  # Train the committee\n",
        "  committee.fit(X_train, y_train)\n",
        "\n",
        "  # Store the true labels and the predicted labels for all iterations\n",
        "  true_labels = []\n",
        "  predicted_labels = []\n",
        "\n",
        "  # Iterate through each 20% of the test set\n",
        "  test_set_size = len(X_test)\n",
        "  for start_idx in range(0, test_set_size, int(0.2*test_set_size)):\n",
        "    # Predict the probabilities for the image the model is most unsure about in the current 20% of the test set\n",
        "    X_test_current_20_percent = X_test[start_idx:start_idx+int(0.2*test_set_size)]\n",
        "    predicted_probabilities = committee.predict_proba(X_test_current_20_percent)\n",
        "\n",
        "    # Get the indices of the 5 most uncertain images\n",
        "    most_uncertain_indices = np.argsort(np.std(predicted_probabilities, axis=1))[-5:]\n",
        "\n",
        "\n",
        "    # Use the committee's decision as the true label for training\n",
        "    committee.teach(\n",
        "        X=X_test_current_20_percent[most_uncertain_indices],\n",
        "        y=np.argmax(predicted_probabilities[most_uncertain_indices], axis=1)\n",
        "    )\n",
        "\n",
        "    # Store the true labels and the predicted labels for the current 20% of the test set\n",
        "    true_labels.extend(y_test[start_idx:start_idx+int(0.2*test_set_size)])\n",
        "    predicted_labels.extend(committee.predict(X_test_current_20_percent))\n",
        "\n",
        "  # Print the classification report and the confusion matrix for the true labels and the predicted labels\n",
        "  report = classification_report(true_labels, predicted_labels, output_dict=True)\n",
        "  print(report)\n",
        "  lista.append(report)\n",
        "  print(confusion_matrix(true_labels, predicted_labels))\n",
        "\n",
        "  # Calculate and print the AUC-ROC, log loss, F1 score, precision, recall, and support\n",
        "\n",
        "  print(\"F1 Score:\", report['macro avg']['f1-score'])\n",
        "  print(\"Precision:\", report['macro avg']['precision'])\n",
        "  print(\"Recall:\", report['macro avg']['recall'])\n",
        "  print(\"Support:\", report['macro avg']['support'])\n"
      ],
      "metadata": {
        "id": "fMVUbKzEepFR"
      },
      "execution_count": null,
      "outputs": []
    },
    {
      "cell_type": "markdown",
      "source": [
        "# **3 active learners all the same**"
      ],
      "metadata": {
        "id": "I6TP3ROJMECe"
      }
    },
    {
      "cell_type": "code",
      "source": [
        "activeLearnersAllSameImportance(3, lista)"
      ],
      "metadata": {
        "colab": {
          "base_uri": "https://localhost:8080/"
        },
        "id": "WQwanvvMfS6Q",
        "outputId": "4ae22f55-6631-48da-d183-e3e7872663e4"
      },
      "execution_count": null,
      "outputs": [
        {
          "output_type": "stream",
          "name": "stdout",
          "text": [
            "{'0': {'precision': 0.9568345323741008, 'recall': 0.9925373134328358, 'f1-score': 0.9743589743589743, 'support': 134}, '1': {'precision': 0.95, 'recall': 0.9236111111111112, 'f1-score': 0.9366197183098592, 'support': 144}, '2': {'precision': 0.8951048951048951, 'recall': 0.8888888888888888, 'f1-score': 0.8919860627177701, 'support': 144}, '3': {'precision': 0.9849624060150376, 'recall': 0.891156462585034, 'f1-score': 0.9357142857142856, 'support': 147}, '4': {'precision': 0.9642857142857143, 'recall': 0.9642857142857143, 'f1-score': 0.9642857142857143, 'support': 140}, '5': {'precision': 0.952054794520548, 'recall': 0.9328859060402684, 'f1-score': 0.9423728813559323, 'support': 149}, '6': {'precision': 0.9931972789115646, 'recall': 0.9733333333333334, 'f1-score': 0.9831649831649831, 'support': 150}, '7': {'precision': 0.9125, 'recall': 0.9798657718120806, 'f1-score': 0.9449838187702266, 'support': 149}, '8': {'precision': 0.821917808219178, 'recall': 0.8888888888888888, 'f1-score': 0.8540925266903915, 'support': 135}, '9': {'precision': 0.9305555555555556, 'recall': 0.9178082191780822, 'f1-score': 0.9241379310344828, 'support': 146}, 'accuracy': 0.935326842837274, 'macro avg': {'precision': 0.9361412984986593, 'recall': 0.9353261609556238, 'f1-score': 0.9351716896402621, 'support': 1438}, 'weighted avg': {'precision': 0.936939274936329, 'recall': 0.935326842837274, 'f1-score': 0.9355708343948983, 'support': 1438}}\n",
            "[[133   0   0   0   1   0   0   0   0   0]\n",
            " [  0 133   8   0   0   0   0   0   3   0]\n",
            " [  2   1 128   0   0   0   0   0  13   0]\n",
            " [  2   0   4 131   0   1   0   3   6   0]\n",
            " [  1   0   0   0 135   0   0   4   0   0]\n",
            " [  0   0   0   0   1 139   1   0   1   7]\n",
            " [  1   2   0   0   0   1 146   0   0   0]\n",
            " [  0   0   0   0   2   0   0 146   0   1]\n",
            " [  0   4   3   0   1   2   0   3 120   2]\n",
            " [  0   0   0   2   0   3   0   4   3 134]]\n",
            "F1 Score: 0.9351716896402621\n",
            "Precision: 0.9361412984986593\n",
            "Recall: 0.9353261609556238\n",
            "Support: 1438\n"
          ]
        }
      ]
    },
    {
      "cell_type": "markdown",
      "source": [
        "# **5 active learners all the same**"
      ],
      "metadata": {
        "id": "WiqNUIRkMEIY"
      }
    },
    {
      "cell_type": "code",
      "source": [
        "activeLearnersAllSameImportance(5, lista)"
      ],
      "metadata": {
        "colab": {
          "base_uri": "https://localhost:8080/"
        },
        "id": "uL13_ARhKOfW",
        "outputId": "9f5e5007-2cf9-4d7c-fca5-7d10b19008cc"
      },
      "execution_count": null,
      "outputs": [
        {
          "output_type": "stream",
          "name": "stdout",
          "text": [
            "{'0': {'precision': 0.9640287769784173, 'recall': 1.0, 'f1-score': 0.9816849816849816, 'support': 134}, '1': {'precision': 0.9379310344827586, 'recall': 0.9444444444444444, 'f1-score': 0.9411764705882353, 'support': 144}, '2': {'precision': 0.9338235294117647, 'recall': 0.8819444444444444, 'f1-score': 0.9071428571428571, 'support': 144}, '3': {'precision': 0.9851851851851852, 'recall': 0.9047619047619048, 'f1-score': 0.9432624113475178, 'support': 147}, '4': {'precision': 0.9854014598540146, 'recall': 0.9642857142857143, 'f1-score': 0.9747292418772563, 'support': 140}, '5': {'precision': 0.965034965034965, 'recall': 0.9261744966442953, 'f1-score': 0.9452054794520547, 'support': 149}, '6': {'precision': 0.9931506849315068, 'recall': 0.9666666666666667, 'f1-score': 0.9797297297297298, 'support': 150}, '7': {'precision': 0.9245283018867925, 'recall': 0.9865771812080537, 'f1-score': 0.9545454545454546, 'support': 149}, '8': {'precision': 0.8157894736842105, 'recall': 0.9185185185185185, 'f1-score': 0.8641114982578396, 'support': 135}, '9': {'precision': 0.9178082191780822, 'recall': 0.9178082191780822, 'f1-score': 0.9178082191780822, 'support': 146}, 'accuracy': 0.9408901251738526, 'macro avg': {'precision': 0.9422681630627698, 'recall': 0.9411181590152123, 'f1-score': 0.9409396343804008, 'support': 1438}, 'weighted avg': {'precision': 0.9430737471322251, 'recall': 0.9408901251738526, 'f1-score': 0.9412398052572062, 'support': 1438}}\n",
            "[[134   0   0   0   0   0   0   0   0   0]\n",
            " [  0 136   6   0   0   1   0   0   1   0]\n",
            " [  1   2 127   0   0   0   0   0  14   0]\n",
            " [  1   0   0 133   0   0   0   2   9   2]\n",
            " [  1   0   0   0 135   0   0   4   0   0]\n",
            " [  0   0   0   0   1 138   1   0   1   8]\n",
            " [  2   3   0   0   0   0 145   0   0   0]\n",
            " [  0   0   0   0   1   0   0 147   0   1]\n",
            " [  0   4   3   0   0   2   0   1 124   1]\n",
            " [  0   0   0   2   0   2   0   5   3 134]]\n",
            "F1 Score: 0.9409396343804008\n",
            "Precision: 0.9422681630627698\n",
            "Recall: 0.9411181590152123\n",
            "Support: 1438\n"
          ]
        }
      ]
    },
    {
      "cell_type": "markdown",
      "source": [
        "# **7 active learners all the same**"
      ],
      "metadata": {
        "id": "INlIO-fkMRMW"
      }
    },
    {
      "cell_type": "code",
      "source": [
        "activeLearnersAllSameImportance(7, lista)"
      ],
      "metadata": {
        "colab": {
          "base_uri": "https://localhost:8080/"
        },
        "id": "vGfj7fJ5MVul",
        "outputId": "d6cefb33-1c8f-4fd1-9ed5-0a2f231f62c6"
      },
      "execution_count": null,
      "outputs": [
        {
          "output_type": "stream",
          "name": "stdout",
          "text": [
            "{'0': {'precision': 0.9640287769784173, 'recall': 1.0, 'f1-score': 0.9816849816849816, 'support': 134}, '1': {'precision': 0.9383561643835616, 'recall': 0.9513888888888888, 'f1-score': 0.9448275862068966, 'support': 144}, '2': {'precision': 0.916083916083916, 'recall': 0.9097222222222222, 'f1-score': 0.9128919860627178, 'support': 144}, '3': {'precision': 0.9848484848484849, 'recall': 0.8843537414965986, 'f1-score': 0.9318996415770608, 'support': 147}, '4': {'precision': 0.9852941176470589, 'recall': 0.9571428571428572, 'f1-score': 0.9710144927536232, 'support': 140}, '5': {'precision': 0.9591836734693877, 'recall': 0.9463087248322147, 'f1-score': 0.9527027027027025, 'support': 149}, '6': {'precision': 0.9931972789115646, 'recall': 0.9733333333333334, 'f1-score': 0.9831649831649831, 'support': 150}, '7': {'precision': 0.9074074074074074, 'recall': 0.9865771812080537, 'f1-score': 0.9453376205787781, 'support': 149}, '8': {'precision': 0.8391608391608392, 'recall': 0.8888888888888888, 'f1-score': 0.8633093525179856, 'support': 135}, '9': {'precision': 0.9440559440559441, 'recall': 0.9246575342465754, 'f1-score': 0.9342560553633218, 'support': 146}, 'accuracy': 0.9422809457579973, 'macro avg': {'precision': 0.943161660294658, 'recall': 0.9422373372259634, 'f1-score': 0.9421089402613051, 'support': 1438}, 'weighted avg': {'precision': 0.9437786338331006, 'recall': 0.9422809457579973, 'f1-score': 0.9424336471255969, 'support': 1438}}\n",
            "[[134   0   0   0   0   0   0   0   0   0]\n",
            " [  0 137   7   0   0   0   0   0   0   0]\n",
            " [  1   1 131   0   0   0   0   0  11   0]\n",
            " [  0   0   3 130   0   1   0   3   8   2]\n",
            " [  2   0   0   0 134   0   0   4   0   0]\n",
            " [  0   0   0   1   1 141   1   0   1   4]\n",
            " [  2   2   0   0   0   0 146   0   0   0]\n",
            " [  0   0   0   0   1   0   0 147   0   1]\n",
            " [  0   6   2   0   0   3   0   3 120   1]\n",
            " [  0   0   0   1   0   2   0   5   3 135]]\n",
            "F1 Score: 0.9421089402613051\n",
            "Precision: 0.943161660294658\n",
            "Recall: 0.9422373372259634\n",
            "Support: 1438\n"
          ]
        }
      ]
    },
    {
      "cell_type": "markdown",
      "source": [
        "# **Now with 1/4 of the learners having more knowledge (2 times more training) then the others and so, their opinion has weight 1.5**"
      ],
      "metadata": {
        "id": "eKDLmIVqgpDF"
      }
    },
    {
      "cell_type": "code",
      "source": [
        "def activeLearnersDifferentImportance(howmany, lista):\n",
        "   # Load the digits dataset\n",
        "   digits = load_digits()\n",
        "   X = digits.data\n",
        "   y = digits.target\n",
        "\n",
        "   # Split the dataset into a training set and a test set with a test size of 80%\n",
        "   X_train, X_test, y_train, y_test = train_test_split(X, y, test_size=0.8, random_state=42)\n",
        "\n",
        "   # Initialize a list of ActiveLearner objects\n",
        "   learners = [ActiveLearner(estimator=RandomForestClassifier(n_estimators=50), X_training=X_train, y_training=y_train) for _ in range(howmany)]\n",
        "\n",
        "   # Determine the number of learners to be given more training\n",
        "   num_learners = howmany\n",
        "   num_additional_training = math.ceil(num_learners / 4)\n",
        "\n",
        "   # Create a list of learners to be given more training\n",
        "   additional_training_learners = random.sample(learners, num_additional_training)\n",
        "\n",
        "   # Train the additional learners twice\n",
        "   for learner in additional_training_learners:\n",
        "       learner.fit(X_train, y_train)\n",
        "       learner.fit(X_train, y_train)\n",
        "\n",
        "   # Create a custom Committee class\n",
        "   class CustomCommittee(Committee):\n",
        "       def __init__(self, learner_list, query_strategy, additional_training_learners):\n",
        "           super().__init__(learner_list, query_strategy)\n",
        "           self.additional_training_learners = additional_training_learners\n",
        "\n",
        "       def predict_proba(self, X):\n",
        "           probabilities = super().predict_proba(X)\n",
        "           for learner in self.additional_training_learners:\n",
        "               learner_idx = self.learner_list.index(learner)\n",
        "               probabilities[:, learner_idx] *= 1.5\n",
        "           return probabilities\n",
        "\n",
        "   # Create a Committee object\n",
        "   committee = CustomCommittee(\n",
        "       learner_list=learners,\n",
        "       query_strategy=vote_entropy_sampling,\n",
        "       additional_training_learners=additional_training_learners\n",
        "   )\n",
        "\n",
        "   # Train the committee\n",
        "   committee.fit(X_train, y_train)\n",
        "\n",
        "   # Store the true labels and the predicted labels for all iterations\n",
        "   true_labels = []\n",
        "   predicted_labels = []\n",
        "\n",
        "   # Iterate through each 20% of the test set\n",
        "   test_set_size = len(X_test)\n",
        "   for start_idx in range(0, test_set_size, int(0.2*test_set_size)):\n",
        "       # Predict the probabilities for the image the model is most unsure about in the current 20% of the test set\n",
        "       X_test_current_20_percent = X_test[start_idx:start_idx+int(0.2*test_set_size)]\n",
        "       predicted_probabilities = committee.predict_proba(X_test_current_20_percent)\n",
        "\n",
        "       # Get the indices of the 5 most uncertain images\n",
        "       most_uncertain_indices = np.argsort(np.std(predicted_probabilities, axis=1))[-5:]\n",
        "\n",
        "       # Use the committee's decision as the true label for training\n",
        "       committee.teach(\n",
        "           X=X_test_current_20_percent[most_uncertain_indices],\n",
        "           y=np.argmax(predicted_probabilities[most_uncertain_indices], axis=1)\n",
        "       )\n",
        "\n",
        "       # Store the true labels and the predicted labels for the current 20% of the test set\n",
        "       true_labels.extend(y_test[start_idx:start_idx+int(0.2*test_set_size)])\n",
        "       predicted_labels.extend(committee.predict(X_test_current_20_percent))\n",
        "\n",
        "   # Print the classification report and the confusion matrix for the true labels and the predicted labels\n",
        "   report = classification_report(true_labels, predicted_labels, output_dict=True)\n",
        "   print(report)\n",
        "   lista.append(report)\n",
        "   print(confusion_matrix(true_labels, predicted_labels))\n",
        "\n",
        "   # Calculate and print the AUC-ROC, log loss, F1 score, precision, recall, and support\n",
        "   print(\"F1 Score:\", report['macro avg']['f1-score'])\n",
        "   print(\"Precision:\", report['macro avg']['precision'])\n",
        "   print(\"Recall:\", report['macro avg']['recall'])\n",
        "   print(\"Support:\", report['macro avg']['support'])\n"
      ],
      "metadata": {
        "id": "VISQFyqRXPB0"
      },
      "execution_count": null,
      "outputs": []
    },
    {
      "cell_type": "markdown",
      "source": [
        "# **3 learners, different importance**\n",
        "\n",
        "---\n",
        "\n"
      ],
      "metadata": {
        "id": "LuFZHv8xhTcv"
      }
    },
    {
      "cell_type": "code",
      "source": [
        "activeLearnersDifferentImportance(3, lista)"
      ],
      "metadata": {
        "colab": {
          "base_uri": "https://localhost:8080/"
        },
        "id": "kZcgBAnvX0R-",
        "outputId": "d9e0942f-4a25-4887-eec2-1a174801c43e"
      },
      "execution_count": null,
      "outputs": [
        {
          "output_type": "stream",
          "name": "stdout",
          "text": [
            "{'0': {'precision': 0.9571428571428572, 'recall': 1.0, 'f1-score': 0.9781021897810218, 'support': 134}, '1': {'precision': 0.935251798561151, 'recall': 0.9027777777777778, 'f1-score': 0.9187279151943463, 'support': 144}, '2': {'precision': 0.8726114649681529, 'recall': 0.9513888888888888, 'f1-score': 0.9102990033222591, 'support': 144}, '3': {'precision': 0.9924242424242424, 'recall': 0.891156462585034, 'f1-score': 0.9390681003584229, 'support': 147}, '4': {'precision': 0.9712230215827338, 'recall': 0.9642857142857143, 'f1-score': 0.967741935483871, 'support': 140}, '5': {'precision': 0.9463087248322147, 'recall': 0.9463087248322147, 'f1-score': 0.9463087248322147, 'support': 149}, '6': {'precision': 0.9932432432432432, 'recall': 0.98, 'f1-score': 0.9865771812080537, 'support': 150}, '7': {'precision': 0.91875, 'recall': 0.9865771812080537, 'f1-score': 0.9514563106796117, 'support': 149}, '8': {'precision': 0.8778625954198473, 'recall': 0.8518518518518519, 'f1-score': 0.8646616541353385, 'support': 135}, '9': {'precision': 0.9370629370629371, 'recall': 0.9178082191780822, 'f1-score': 0.9273356401384083, 'support': 146}, 'accuracy': 0.9394993045897079, 'macro avg': {'precision': 0.9401880885237379, 'recall': 0.9392154820607617, 'f1-score': 0.9390278655133549, 'support': 1438}, 'weighted avg': {'precision': 0.9406466725609622, 'recall': 0.9394993045897079, 'f1-score': 0.9393924517791563, 'support': 1438}}\n",
            "[[134   0   0   0   0   0   0   0   0   0]\n",
            " [  0 130  11   0   1   0   0   0   2   0]\n",
            " [  0   1 137   0   0   0   0   0   6   0]\n",
            " [  2   1   5 131   0   1   0   2   5   0]\n",
            " [  2   0   0   0 135   0   0   3   0   0]\n",
            " [  0   0   0   0   1 141   1   0   1   5]\n",
            " [  2   1   0   0   0   0 147   0   0   0]\n",
            " [  0   0   0   0   1   0   0 147   0   1]\n",
            " [  0   6   4   0   1   4   0   2 115   3]\n",
            " [  0   0   0   1   0   3   0   6   2 134]]\n",
            "F1 Score: 0.9390278655133549\n",
            "Precision: 0.9401880885237379\n",
            "Recall: 0.9392154820607617\n",
            "Support: 1438\n"
          ]
        }
      ]
    },
    {
      "cell_type": "markdown",
      "source": [
        "# **5 learners, different importance**"
      ],
      "metadata": {
        "id": "75M0K0krX1pO"
      }
    },
    {
      "cell_type": "code",
      "source": [
        "activeLearnersDifferentImportance(5, lista)"
      ],
      "metadata": {
        "colab": {
          "base_uri": "https://localhost:8080/"
        },
        "id": "pUm3cG1iX7dq",
        "outputId": "c43c46c1-3d33-4ff4-ac03-1ab0bb0a060f"
      },
      "execution_count": null,
      "outputs": [
        {
          "output_type": "stream",
          "name": "stdout",
          "text": [
            "{'0': {'precision': 0.9436619718309859, 'recall': 1.0, 'f1-score': 0.9710144927536231, 'support': 134}, '1': {'precision': 0.875, 'recall': 0.9722222222222222, 'f1-score': 0.9210526315789473, 'support': 144}, '2': {'precision': 0.9357142857142857, 'recall': 0.9097222222222222, 'f1-score': 0.9225352112676057, 'support': 144}, '3': {'precision': 0.9924242424242424, 'recall': 0.891156462585034, 'f1-score': 0.9390681003584229, 'support': 147}, '4': {'precision': 0.9779411764705882, 'recall': 0.95, 'f1-score': 0.963768115942029, 'support': 140}, '5': {'precision': 0.9647887323943662, 'recall': 0.9194630872483222, 'f1-score': 0.9415807560137458, 'support': 149}, '6': {'precision': 0.993103448275862, 'recall': 0.96, 'f1-score': 0.976271186440678, 'support': 150}, '7': {'precision': 0.901840490797546, 'recall': 0.9865771812080537, 'f1-score': 0.9423076923076924, 'support': 149}, '8': {'precision': 0.8656716417910447, 'recall': 0.8592592592592593, 'f1-score': 0.862453531598513, 'support': 135}, '9': {'precision': 0.9305555555555556, 'recall': 0.9178082191780822, 'f1-score': 0.9241379310344828, 'support': 146}, 'accuracy': 0.9367176634214186, 'macro avg': {'precision': 0.9380701545254476, 'recall': 0.9366208653923197, 'f1-score': 0.936418964929574, 'support': 1438}, 'weighted avg': {'precision': 0.9386729791101054, 'recall': 0.9367176634214186, 'f1-score': 0.9367583865412316, 'support': 1438}}\n",
            "[[134   0   0   0   0   0   0   0   0   0]\n",
            " [  0 140   4   0   0   0   0   0   0   0]\n",
            " [  1   3 131   0   0   0   0   0   9   0]\n",
            " [  2   1   3 131   0   1   0   2   6   1]\n",
            " [  1   2   0   0 133   0   0   4   0   0]\n",
            " [  2   0   0   0   1 137   1   0   1   7]\n",
            " [  2   4   0   0   0   0 144   0   0   0]\n",
            " [  0   0   0   0   1   0   0 147   0   1]\n",
            " [  0   9   2   0   1   2   0   4 116   1]\n",
            " [  0   1   0   1   0   2   0   6   2 134]]\n",
            "F1 Score: 0.936418964929574\n",
            "Precision: 0.9380701545254476\n",
            "Recall: 0.9366208653923197\n",
            "Support: 1438\n"
          ]
        }
      ]
    },
    {
      "cell_type": "markdown",
      "source": [
        "# **7 learners, different importance**"
      ],
      "metadata": {
        "id": "sEhLQaPUX1xh"
      }
    },
    {
      "cell_type": "code",
      "source": [
        "activeLearnersDifferentImportance(7, lista)"
      ],
      "metadata": {
        "colab": {
          "base_uri": "https://localhost:8080/"
        },
        "id": "BxXvIMUbY5fD",
        "outputId": "3ef663bd-f0ce-4b5d-bc96-436cabe3d9c4"
      },
      "execution_count": null,
      "outputs": [
        {
          "output_type": "stream",
          "name": "stdout",
          "text": [
            "{'0': {'precision': 0.9851851851851852, 'recall': 0.9925373134328358, 'f1-score': 0.9888475836431226, 'support': 134}, '1': {'precision': 0.9424460431654677, 'recall': 0.9097222222222222, 'f1-score': 0.9257950530035336, 'support': 144}, '2': {'precision': 0.8679245283018868, 'recall': 0.9583333333333334, 'f1-score': 0.910891089108911, 'support': 144}, '3': {'precision': 0.9847328244274809, 'recall': 0.8775510204081632, 'f1-score': 0.9280575539568345, 'support': 147}, '4': {'precision': 0.9319727891156463, 'recall': 0.9785714285714285, 'f1-score': 0.9547038327526133, 'support': 140}, '5': {'precision': 0.958904109589041, 'recall': 0.9395973154362416, 'f1-score': 0.9491525423728814, 'support': 149}, '6': {'precision': 1.0, 'recall': 0.9733333333333334, 'f1-score': 0.9864864864864865, 'support': 150}, '7': {'precision': 0.935064935064935, 'recall': 0.9664429530201343, 'f1-score': 0.9504950495049505, 'support': 149}, '8': {'precision': 0.8939393939393939, 'recall': 0.8740740740740741, 'f1-score': 0.8838951310861423, 'support': 135}, '9': {'precision': 0.9194630872483222, 'recall': 0.9383561643835616, 'f1-score': 0.9288135593220338, 'support': 146}, 'accuracy': 0.9408901251738526, 'macro avg': {'precision': 0.941963289603736, 'recall': 0.9408519158215327, 'f1-score': 0.9407137881237511, 'support': 1438}, 'weighted avg': {'precision': 0.9423260843857161, 'recall': 0.9408901251738526, 'f1-score': 0.9409071378371399, 'support': 1438}}\n",
            "[[133   0   0   0   1   0   0   0   0   0]\n",
            " [  0 131  11   0   2   0   0   0   0   0]\n",
            " [  0   1 138   0   0   0   0   0   5   0]\n",
            " [  1   0   5 129   0   1   0   2   6   3]\n",
            " [  0   0   0   0 137   0   0   3   0   0]\n",
            " [  0   0   0   1   1 140   0   0   1   6]\n",
            " [  1   2   0   0   1   0 146   0   0   0]\n",
            " [  0   0   0   0   4   0   0 144   0   1]\n",
            " [  0   5   5   0   1   3   0   1 118   2]\n",
            " [  0   0   0   1   0   2   0   4   2 137]]\n",
            "F1 Score: 0.9407137881237511\n",
            "Precision: 0.941963289603736\n",
            "Recall: 0.9408519158215327\n",
            "Support: 1438\n"
          ]
        }
      ]
    },
    {
      "cell_type": "markdown",
      "source": [
        "# **Now with 1/4 of the learners having more knowledge (2 times more training) then the others and so, their opinion has weight 1.5  and other 1/4 has (3 times more training) than the other half and their opinion as weight 2.**"
      ],
      "metadata": {
        "id": "DmrqMC-2bS6R"
      }
    },
    {
      "cell_type": "code",
      "source": [
        "def activeLearnersDifferentImportanceAndWeights(howmany, lista):   # Load the digits dataset\n",
        "   digits = load_digits()\n",
        "   X = digits.data\n",
        "   y = digits.target\n",
        "\n",
        "   # Split the dataset into a training set and a test set with a test size of 80%\n",
        "   X_train, X_test, y_train, y_test = train_test_split(X, y, test_size=0.8, random_state=42)\n",
        "\n",
        "   # Initialize a list of ActiveLearner objects\n",
        "   learners = [ActiveLearner(estimator=RandomForestClassifier(n_estimators=50), X_training=X_train, y_training=y_train) for _ in range(howmany)]\n",
        "\n",
        "   # Determine the number of learners to be given more training\n",
        "   num_learners = howmany\n",
        "   num_additional_training = min(num_learners, math.ceil(num_learners / 4) * 3) # Adjusted to not exceed total number of learners\n",
        "\n",
        "   # Create a list of learners to be given more training\n",
        "   additional_training_learners = random.sample(learners, num_additional_training)\n",
        "\n",
        "\n",
        "   # Train the additional learners twice\n",
        "   for learner in additional_training_learners:\n",
        "       learner.fit(X_train, y_train)\n",
        "       learner.fit(X_train, y_train)\n",
        "\n",
        "   # Create a custom Committee class\n",
        "   class CustomCommittee(Committee):\n",
        "       def __init__(self, learner_list, query_strategy, additional_training_learners):\n",
        "           super().__init__(learner_list, query_strategy)\n",
        "           self.additional_training_learners = additional_training_learners\n",
        "\n",
        "       def predict_proba(self, X):\n",
        "           probabilities = super().predict_proba(X)\n",
        "           for learner in self.additional_training_learners:\n",
        "               learner_idx = self.learner_list.index(learner)\n",
        "               probabilities[:, learner_idx] *= 2 # Adjusted to give twice as much weight\n",
        "           return probabilities\n",
        "\n",
        "   # Create a Committee object\n",
        "   committee = CustomCommittee(\n",
        "       learner_list=learners,\n",
        "       query_strategy=vote_entropy_sampling,\n",
        "       additional_training_learners=additional_training_learners\n",
        "   )\n",
        "\n",
        "   # Train the committee\n",
        "   committee.fit(X_train, y_train)\n",
        "\n",
        "   # Store the true labels and the predicted labels for all iterations\n",
        "   true_labels = []\n",
        "   predicted_labels = []\n",
        "\n",
        "   # Iterate through each 20% of the test set\n",
        "   test_set_size = len(X_test)\n",
        "   for start_idx in range(0, test_set_size, int(0.2*test_set_size)):\n",
        "       # Predict the probabilities for the image the model is most unsure about in the current 20% of the test set\n",
        "       X_test_current_20_percent = X_test[start_idx:start_idx+int(0.2*test_set_size)]\n",
        "       predicted_probabilities = committee.predict_proba(X_test_current_20_percent)\n",
        "\n",
        "       # Get the indices of the 5 most uncertain images\n",
        "       most_uncertain_indices = np.argsort(np.std(predicted_probabilities, axis=1))[-5:]\n",
        "\n",
        "       # Use the committee's decision as the true label for training\n",
        "       committee.teach(\n",
        "           X=X_test_current_20_percent[most_uncertain_indices],\n",
        "           y=np.argmax(predicted_probabilities[most_uncertain_indices], axis=1)\n",
        "       )\n",
        "\n",
        "       # Store the true labels and the predicted labels for the current 20% of the test set\n",
        "       true_labels.extend(y_test[start_idx:start_idx+int(0.2*test_set_size)])\n",
        "       predicted_labels.extend(committee.predict(X_test_current_20_percent))\n",
        "\n",
        "   # Print the classification report and the confusion matrix for the true labels and the predicted labels\n",
        "   report = classification_report(true_labels, predicted_labels, output_dict=True)\n",
        "   print(report)\n",
        "   lista.append(report)\n",
        "   print(confusion_matrix(true_labels, predicted_labels))\n",
        "\n",
        "   # Calculate and print the AUC-ROC, log loss, F1 score, precision, recall, and support\n",
        "   print(\"F1 Score:\", report['macro avg']['f1-score'])\n",
        "   print(\"Precision:\", report['macro avg']['precision'])\n",
        "   print(\"Recall:\", report['macro avg']['recall'])\n",
        "   print(\"Support:\", report['macro avg']['support'])\n"
      ],
      "metadata": {
        "id": "vUYwjDCsboXF"
      },
      "execution_count": null,
      "outputs": []
    },
    {
      "cell_type": "markdown",
      "source": [
        "# **3 active learners, different importance**"
      ],
      "metadata": {
        "id": "jRUiDVSub7aj"
      }
    },
    {
      "cell_type": "code",
      "source": [
        "activeLearnersDifferentImportanceAndWeights(3, lista)"
      ],
      "metadata": {
        "colab": {
          "base_uri": "https://localhost:8080/"
        },
        "id": "q0jsbdPCb-PK",
        "outputId": "311343f1-ba67-4b3e-d9fa-e726c528a8a1"
      },
      "execution_count": null,
      "outputs": [
        {
          "output_type": "stream",
          "name": "stdout",
          "text": [
            "{'0': {'precision': 0.9178082191780822, 'recall': 1.0, 'f1-score': 0.9571428571428571, 'support': 134}, '1': {'precision': 0.8, 'recall': 0.9444444444444444, 'f1-score': 0.8662420382165604, 'support': 144}, '2': {'precision': 0.8303030303030303, 'recall': 0.9513888888888888, 'f1-score': 0.8867313915857605, 'support': 144}, '3': {'precision': 0.9838709677419355, 'recall': 0.8299319727891157, 'f1-score': 0.9003690036900369, 'support': 147}, '4': {'precision': 0.9844961240310077, 'recall': 0.9071428571428571, 'f1-score': 0.9442379182156134, 'support': 140}, '5': {'precision': 0.9637681159420289, 'recall': 0.8926174496644296, 'f1-score': 0.9268292682926829, 'support': 149}, '6': {'precision': 1.0, 'recall': 0.9533333333333334, 'f1-score': 0.9761092150170648, 'support': 150}, '7': {'precision': 0.9056603773584906, 'recall': 0.9664429530201343, 'f1-score': 0.935064935064935, 'support': 149}, '8': {'precision': 0.9024390243902439, 'recall': 0.8222222222222222, 'f1-score': 0.8604651162790697, 'support': 135}, '9': {'precision': 0.9290780141843972, 'recall': 0.8972602739726028, 'f1-score': 0.9128919860627179, 'support': 146}, 'accuracy': 0.9165507649513213, 'macro avg': {'precision': 0.9217423873129216, 'recall': 0.9164784395478028, 'f1-score': 0.9166083729567299, 'support': 1438}, 'weighted avg': {'precision': 0.9222725530050676, 'recall': 0.9165507649513213, 'f1-score': 0.9169099499700797, 'support': 1438}}\n",
            "[[134   0   0   0   0   0   0   0   0   0]\n",
            " [  0 136   8   0   0   0   0   0   0   0]\n",
            " [  1   2 137   0   0   0   0   0   4   0]\n",
            " [  2   3  11 122   0   1   0   3   5   0]\n",
            " [  3   7   0   0 127   0   0   3   0   0]\n",
            " [  3   2   0   1   1 133   0   0   1   8]\n",
            " [  2   5   0   0   0   0 143   0   0   0]\n",
            " [  1   1   1   0   1   0   0 144   0   1]\n",
            " [  0  11   7   0   0   2   0   3 111   1]\n",
            " [  0   3   1   1   0   2   0   6   2 131]]\n",
            "F1 Score: 0.9166083729567299\n",
            "Precision: 0.9217423873129216\n",
            "Recall: 0.9164784395478028\n",
            "Support: 1438\n"
          ]
        }
      ]
    },
    {
      "cell_type": "markdown",
      "source": [
        "# **5 learners, different importance**"
      ],
      "metadata": {
        "id": "lomhd_oEcEuP"
      }
    },
    {
      "cell_type": "code",
      "source": [
        "activeLearnersDifferentImportanceAndWeights(5, lista)"
      ],
      "metadata": {
        "colab": {
          "base_uri": "https://localhost:8080/"
        },
        "id": "eNOOGkYQcNMY",
        "outputId": "6d1e1adc-a3f9-46ae-9983-900b1bccdf25"
      },
      "execution_count": null,
      "outputs": [
        {
          "output_type": "stream",
          "name": "stdout",
          "text": [
            "{'0': {'precision': 0.910958904109589, 'recall': 0.9925373134328358, 'f1-score': 0.95, 'support': 134}, '1': {'precision': 0.8662420382165605, 'recall': 0.9444444444444444, 'f1-score': 0.9036544850498339, 'support': 144}, '2': {'precision': 0.8679245283018868, 'recall': 0.9583333333333334, 'f1-score': 0.910891089108911, 'support': 144}, '3': {'precision': 0.9194630872483222, 'recall': 0.9319727891156463, 'f1-score': 0.9256756756756758, 'support': 147}, '4': {'precision': 0.9310344827586207, 'recall': 0.9642857142857143, 'f1-score': 0.9473684210526316, 'support': 140}, '5': {'precision': 0.9637681159420289, 'recall': 0.8926174496644296, 'f1-score': 0.9268292682926829, 'support': 149}, '6': {'precision': 1.0, 'recall': 0.96, 'f1-score': 0.9795918367346939, 'support': 150}, '7': {'precision': 0.92, 'recall': 0.9261744966442953, 'f1-score': 0.9230769230769231, 'support': 149}, '8': {'precision': 0.9565217391304348, 'recall': 0.8148148148148148, 'f1-score': 0.8800000000000001, 'support': 135}, '9': {'precision': 0.9555555555555556, 'recall': 0.8835616438356164, 'f1-score': 0.9181494661921709, 'support': 146}, 'accuracy': 0.9269819193324061, 'macro avg': {'precision': 0.9291468451262999, 'recall': 0.9268741999571131, 'f1-score': 0.9265237165183523, 'support': 1438}, 'weighted avg': {'precision': 0.9294974793533615, 'recall': 0.9269819193324061, 'f1-score': 0.926790741334412, 'support': 1438}}\n",
            "[[133   0   0   0   1   0   0   0   0   0]\n",
            " [  0 136   8   0   0   0   0   0   0   0]\n",
            " [  1   2 138   1   0   0   0   0   2   0]\n",
            " [  2   1   5 137   0   0   0   1   1   0]\n",
            " [  2   0   0   0 135   0   0   3   0   0]\n",
            " [  5   1   0   2   2 133   0   0   1   5]\n",
            " [  1   4   0   0   1   0 144   0   0   0]\n",
            " [  2   3   0   0   5   0   0 138   0   1]\n",
            " [  0   9   8   2   1   2   0   3 110   0]\n",
            " [  0   1   0   7   0   3   0   5   1 129]]\n",
            "F1 Score: 0.9265237165183523\n",
            "Precision: 0.9291468451262999\n",
            "Recall: 0.9268741999571131\n",
            "Support: 1438\n"
          ]
        }
      ]
    },
    {
      "cell_type": "markdown",
      "source": [
        "# **7 learners, different importances**"
      ],
      "metadata": {
        "id": "pYIdZ0iecg1L"
      }
    },
    {
      "cell_type": "code",
      "source": [
        "activeLearnersDifferentImportanceAndWeights(7, lista)"
      ],
      "metadata": {
        "colab": {
          "base_uri": "https://localhost:8080/"
        },
        "id": "nF9yZnHTcj6C",
        "outputId": "d7f82297-674e-4735-80e2-f989ea184fbe"
      },
      "execution_count": null,
      "outputs": [
        {
          "output_type": "stream",
          "name": "stdout",
          "text": [
            "{'0': {'precision': 0.9305555555555556, 'recall': 1.0, 'f1-score': 0.9640287769784173, 'support': 134}, '1': {'precision': 0.8831168831168831, 'recall': 0.9444444444444444, 'f1-score': 0.912751677852349, 'support': 144}, '2': {'precision': 0.8846153846153846, 'recall': 0.9583333333333334, 'f1-score': 0.9199999999999999, 'support': 144}, '3': {'precision': 0.9261744966442953, 'recall': 0.9387755102040817, 'f1-score': 0.9324324324324326, 'support': 147}, '4': {'precision': 0.9844961240310077, 'recall': 0.9071428571428571, 'f1-score': 0.9442379182156134, 'support': 140}, '5': {'precision': 0.9006211180124224, 'recall': 0.9731543624161074, 'f1-score': 0.935483870967742, 'support': 149}, '6': {'precision': 0.9668874172185431, 'recall': 0.9733333333333334, 'f1-score': 0.9700996677740864, 'support': 150}, '7': {'precision': 0.9407894736842105, 'recall': 0.959731543624161, 'f1-score': 0.9501661129568106, 'support': 149}, '8': {'precision': 0.9304347826086956, 'recall': 0.7925925925925926, 'f1-score': 0.856, 'support': 135}, '9': {'precision': 0.9921259842519685, 'recall': 0.863013698630137, 'f1-score': 0.9230769230769231, 'support': 146}, 'accuracy': 0.9318497913769124, 'macro avg': {'precision': 0.9339817219738966, 'recall': 0.9310521675721048, 'f1-score': 0.9308277380254374, 'support': 1438}, 'weighted avg': {'precision': 0.933996786834134, 'recall': 0.9318497913769124, 'f1-score': 0.9312677346200984, 'support': 1438}}\n",
            "[[134   0   0   0   0   0   0   0   0   0]\n",
            " [  0 136   8   0   0   0   0   0   0   0]\n",
            " [  1   1 138   0   0   0   0   0   4   0]\n",
            " [  2   0   3 138   0   1   0   1   2   0]\n",
            " [  4   4   0   0 127   1   1   3   0   0]\n",
            " [  0   0   0   1   1 145   1   0   1   0]\n",
            " [  2   2   0   0   0   0 146   0   0   0]\n",
            " [  1   1   0   0   1   3   0 143   0   0]\n",
            " [  0   9   7   2   0   6   3   0 107   1]\n",
            " [  0   1   0   8   0   5   0   5   1 126]]\n",
            "F1 Score: 0.9308277380254374\n",
            "Precision: 0.9339817219738966\n",
            "Recall: 0.9310521675721048\n",
            "Support: 1438\n"
          ]
        }
      ]
    },
    {
      "cell_type": "markdown",
      "source": [
        "# **A single active**"
      ],
      "metadata": {
        "id": "BQU0J7LgZ3AK"
      }
    },
    {
      "cell_type": "code",
      "source": [
        "def activeLearnerOne(lista):\n",
        "   # Load the digits dataset\n",
        "   digits = load_digits()\n",
        "   X = digits.data\n",
        "   y = digits.target\n",
        "\n",
        "   # Split the dataset into a training set and a test set with a test size of 80%\n",
        "   X_train, X_test, y_train, y_test = train_test_split(X, y, test_size=0.8, random_state=42)\n",
        "\n",
        "   # Initialize a single ActiveLearner object\n",
        "   learner = ActiveLearner(estimator=RandomForestClassifier(n_estimators=50), X_training=X_train, y_training=y_train)\n",
        "\n",
        "   # Train the learner\n",
        "   learner.fit(X_train, y_train)\n",
        "\n",
        "   # Store the true labels and the predicted labels for all iterations\n",
        "   true_labels = []\n",
        "   predicted_labels = []\n",
        "\n",
        "   # Iterate through each 20% of the test set\n",
        "   test_set_size = len(X_test)\n",
        "   for start_idx in range(0, test_set_size, int(0.2*test_set_size)):\n",
        "       # Predict the probabilities for the image the model is most unsure about in the current 20% of the test set\n",
        "       X_test_current_20_percent = X_test[start_idx:start_idx+int(0.2*test_set_size)]\n",
        "       predicted_probabilities = learner.predict_proba(X_test_current_20_percent)\n",
        "\n",
        "       # Get the indices of the 5 most uncertain images\n",
        "       most_uncertain_indices = np.argsort(np.std(predicted_probabilities, axis=1))[-5:]\n",
        "\n",
        "       # Use the learner's decision as the true label for training\n",
        "       learner.teach(\n",
        "           X=X_test_current_20_percent[most_uncertain_indices],\n",
        "           y=np.argmax(predicted_probabilities[most_uncertain_indices], axis=1)\n",
        "       )\n",
        "\n",
        "       # Store the true labels and the predicted labels for the current 20% of the test set\n",
        "       true_labels.extend(y_test[start_idx:start_idx+int(0.2*test_set_size)])\n",
        "       predicted_labels.extend(learner.predict(X_test_current_20_percent))\n",
        "\n",
        "   # Print the classification report and the confusion matrix for the true labels and the predicted labels\n",
        "   report = classification_report(true_labels, predicted_labels, output_dict=True)\n",
        "   print(report)\n",
        "   lista.append(report)\n",
        "   print(confusion_matrix(true_labels, predicted_labels))\n",
        "\n",
        "   # Calculate and print the AUC-ROC, log loss, F1 score, precision, recall, and support\n",
        "\n",
        "   print(\"F1 Score:\", report['macro avg']['f1-score'])\n",
        "   print(\"Precision:\", report['macro avg']['precision'])\n",
        "   print(\"Recall:\", report['macro avg']['recall'])\n",
        "   print(\"Support:\", report['macro avg']['support'])\n"
      ],
      "metadata": {
        "id": "HzJzcPj7Z7Y3"
      },
      "execution_count": null,
      "outputs": []
    },
    {
      "cell_type": "code",
      "source": [
        "activeLearnerOne(lista)"
      ],
      "metadata": {
        "colab": {
          "base_uri": "https://localhost:8080/"
        },
        "id": "LsIzr7QJZ-ks",
        "outputId": "085e214f-a673-4833-b8a2-5f55e221a6b8"
      },
      "execution_count": null,
      "outputs": [
        {
          "output_type": "stream",
          "name": "stdout",
          "text": [
            "{'0': {'precision': 0.9568345323741008, 'recall': 0.9925373134328358, 'f1-score': 0.9743589743589743, 'support': 134}, '1': {'precision': 0.918918918918919, 'recall': 0.9444444444444444, 'f1-score': 0.9315068493150684, 'support': 144}, '2': {'precision': 0.9280575539568345, 'recall': 0.8958333333333334, 'f1-score': 0.9116607773851589, 'support': 144}, '3': {'precision': 0.984375, 'recall': 0.8571428571428571, 'f1-score': 0.9163636363636364, 'support': 147}, '4': {'precision': 0.9705882352941176, 'recall': 0.9428571428571428, 'f1-score': 0.9565217391304348, 'support': 140}, '5': {'precision': 0.9642857142857143, 'recall': 0.9060402684563759, 'f1-score': 0.9342560553633219, 'support': 149}, '6': {'precision': 0.9865771812080537, 'recall': 0.98, 'f1-score': 0.9832775919732442, 'support': 150}, '7': {'precision': 0.875, 'recall': 0.9865771812080537, 'f1-score': 0.9274447949526814, 'support': 149}, '8': {'precision': 0.823943661971831, 'recall': 0.8666666666666667, 'f1-score': 0.8447653429602888, 'support': 135}, '9': {'precision': 0.87248322147651, 'recall': 0.8904109589041096, 'f1-score': 0.8813559322033899, 'support': 146}, 'accuracy': 0.9262865090403338, 'macro avg': {'precision': 0.928106401948608, 'recall': 0.926251016644582, 'f1-score': 0.9261511694006199, 'support': 1438}, 'weighted avg': {'precision': 0.9286655150799455, 'recall': 0.9262865090403338, 'f1-score': 0.9264291319381472, 'support': 1438}}\n",
            "[[133   0   0   0   1   0   0   0   0   0]\n",
            " [  0 136   6   0   0   0   0   0   2   0]\n",
            " [  1   3 129   0   1   0   0   0  10   0]\n",
            " [  1   1   1 126   0   1   0   4   9   4]\n",
            " [  2   1   0   0 132   0   0   5   0   0]\n",
            " [  0   1   0   0   1 135   1   0   1  10]\n",
            " [  2   1   0   0   0   0 147   0   0   0]\n",
            " [  0   0   0   0   0   0   0 147   0   2]\n",
            " [  0   5   2   0   1   2   1   4 117   3]\n",
            " [  0   0   1   2   0   2   0   8   3 130]]\n",
            "F1 Score: 0.9261511694006199\n",
            "Precision: 0.928106401948608\n",
            "Recall: 0.926251016644582\n",
            "Support: 1438\n"
          ]
        }
      ]
    },
    {
      "cell_type": "markdown",
      "source": [
        "# **Different estimators**"
      ],
      "metadata": {
        "id": "6QC2i337pgva"
      }
    },
    {
      "cell_type": "code",
      "source": [
        "from sklearn.svm import SVC\n",
        "from sklearn.neighbors import KNeighborsClassifier\n",
        "from sklearn.naive_bayes import GaussianNB\n",
        "from sklearn.datasets import load_digits\n",
        "from sklearn.model_selection import train_test_split\n",
        "from sklearn.metrics import classification_report, confusion_matrix\n",
        "from modAL.models import ActiveLearner\n",
        "import numpy as np\n",
        "import matplotlib.pyplot as plt\n",
        "\n",
        "listaSVC= []\n",
        "listaKNeig = []\n",
        "listaGaussianNB = []"
      ],
      "metadata": {
        "id": "mYjLYUjdqsq4"
      },
      "execution_count": null,
      "outputs": []
    },
    {
      "cell_type": "code",
      "source": [
        "def aLAllSameImportanceDifEst(howmany, lista, estimator):\n",
        " # Load the digits dataset\n",
        "  digits = load_digits()\n",
        "  X = digits.data\n",
        "  y = digits.target\n",
        "\n",
        "  # Split the dataset into a training set and a test set with a test size of 80%\n",
        "  X_train, X_test, y_train, y_test = train_test_split(X, y, test_size=0.8, random_state=42)\n",
        "\n",
        "  # Initialize a list of ActiveLearner objects\n",
        "  learners = [ActiveLearner(estimator=estimator, X_training=X_train, y_training=y_train) for _ in range(howmany)]\n",
        "  # Create a Committee object\n",
        "  committee = Committee(\n",
        "  learner_list=learners,\n",
        "  query_strategy=vote_entropy_sampling\n",
        "  )\n",
        "\n",
        "  # Train the committee\n",
        "  committee.fit(X_train, y_train)\n",
        "\n",
        "  # Store the true labels and the predicted labels for all iterations\n",
        "  true_labels = []\n",
        "  predicted_labels = []\n",
        "\n",
        "  # Iterate through each 20% of the test set\n",
        "  test_set_size = len(X_test)\n",
        "  for start_idx in range(0, test_set_size, int(0.2*test_set_size)):\n",
        "    # Predict the probabilities for the image the model is most unsure about in the current 20% of the test set\n",
        "    X_test_current_20_percent = X_test[start_idx:start_idx+int(0.2*test_set_size)]\n",
        "    predicted_probabilities = committee.predict_proba(X_test_current_20_percent)\n",
        "\n",
        "    # Get the indices of the 5 most uncertain images\n",
        "    most_uncertain_indices = np.argsort(np.std(predicted_probabilities, axis=1))[-5:]\n",
        "\n",
        "    # Use the committee's decision as the true label for training\n",
        "    committee.teach(\n",
        "        X=X_test_current_20_percent[most_uncertain_indices],\n",
        "        y=np.argmax(predicted_probabilities[most_uncertain_indices], axis=1)\n",
        "    )\n",
        "\n",
        "    # Store the true labels and the predicted labels for the current 20% of the test set\n",
        "    true_labels.extend(y_test[start_idx:start_idx+int(0.2*test_set_size)])\n",
        "    predicted_labels.extend(committee.predict(X_test_current_20_percent))\n",
        "\n",
        "  # Print the classification report and the confusion matrix for the true labels and the predicted labels\n",
        "  report = classification_report(true_labels, predicted_labels, output_dict=True)\n",
        "  print(report)\n",
        "  lista.append(report)\n",
        "  print(confusion_matrix(true_labels, predicted_labels))\n",
        "\n",
        "  # Calculate and print the AUC-ROC, log loss, F1 score, precision, recall, and support\n",
        "\n",
        "  print(\"F1 Score:\", report['macro avg']['f1-score'])\n",
        "  print(\"Precision:\", report['macro avg']['precision'])\n",
        "  print(\"Recall:\", report['macro avg']['recall'])\n",
        "  print(\"Support:\", report['macro avg']['support'])\n"
      ],
      "metadata": {
        "id": "kTKXUVZbq9Qg"
      },
      "execution_count": null,
      "outputs": []
    },
    {
      "cell_type": "code",
      "source": [
        "aLAllSameImportanceDifEst(3, listaSVC, SVC(probability=True))"
      ],
      "metadata": {
        "colab": {
          "base_uri": "https://localhost:8080/"
        },
        "id": "bFNCtDBxrj-Y",
        "outputId": "f33f95fd-18bf-401d-988e-f849049844b5"
      },
      "execution_count": null,
      "outputs": [
        {
          "output_type": "stream",
          "name": "stdout",
          "text": [
            "{'0': {'precision': 0.9852941176470589, 'recall': 1.0, 'f1-score': 0.9925925925925926, 'support': 134}, '1': {'precision': 0.9517241379310345, 'recall': 0.9583333333333334, 'f1-score': 0.9550173010380624, 'support': 144}, '2': {'precision': 0.9395973154362416, 'recall': 0.9722222222222222, 'f1-score': 0.9556313993174061, 'support': 144}, '3': {'precision': 1.0, 'recall': 0.9047619047619048, 'f1-score': 0.9500000000000001, 'support': 147}, '4': {'precision': 0.9927536231884058, 'recall': 0.9785714285714285, 'f1-score': 0.9856115107913668, 'support': 140}, '5': {'precision': 0.9731543624161074, 'recall': 0.9731543624161074, 'f1-score': 0.9731543624161074, 'support': 149}, '6': {'precision': 0.9932432432432432, 'recall': 0.98, 'f1-score': 0.9865771812080537, 'support': 150}, '7': {'precision': 0.9358974358974359, 'recall': 0.9798657718120806, 'f1-score': 0.957377049180328, 'support': 149}, '8': {'precision': 0.9037037037037037, 'recall': 0.9037037037037037, 'f1-score': 0.9037037037037037, 'support': 135}, '9': {'precision': 0.9194630872483222, 'recall': 0.9383561643835616, 'f1-score': 0.9288135593220338, 'support': 146}, 'accuracy': 0.958970792767733, 'macro avg': {'precision': 0.9594831026711553, 'recall': 0.9588968891204341, 'f1-score': 0.9588478659569655, 'support': 1438}, 'weighted avg': {'precision': 0.9596954266129555, 'recall': 0.958970792767733, 'f1-score': 0.9589839839634772, 'support': 1438}}\n",
            "[[134   0   0   0   0   0   0   0   0   0]\n",
            " [  0 138   5   0   0   0   0   0   1   0]\n",
            " [  0   1 140   0   0   0   0   0   3   0]\n",
            " [  0   0   3 133   0   0   0   2   6   3]\n",
            " [  0   0   0   0 137   0   0   2   1   0]\n",
            " [  0   0   0   0   1 145   1   0   0   2]\n",
            " [  2   1   0   0   0   0 147   0   0   0]\n",
            " [  0   0   0   0   0   0   0 146   0   3]\n",
            " [  0   5   1   0   0   2   0   1 122   4]\n",
            " [  0   0   0   0   0   2   0   5   2 137]]\n",
            "F1 Score: 0.9588478659569655\n",
            "Precision: 0.9594831026711553\n",
            "Recall: 0.9588968891204341\n",
            "Support: 1438\n"
          ]
        }
      ]
    },
    {
      "cell_type": "code",
      "source": [
        "aLAllSameImportanceDifEst(3, listaKNeig, KNeighborsClassifier())"
      ],
      "metadata": {
        "colab": {
          "base_uri": "https://localhost:8080/"
        },
        "id": "-iwrW-6_sT3Z",
        "outputId": "1eea6d04-04f1-4d4a-db84-6c6a3c7bc77c"
      },
      "execution_count": null,
      "outputs": [
        {
          "output_type": "stream",
          "name": "stdout",
          "text": [
            "{'0': {'precision': 0.9925925925925926, 'recall': 1.0, 'f1-score': 0.996282527881041, 'support': 134}, '1': {'precision': 0.9432624113475178, 'recall': 0.9236111111111112, 'f1-score': 0.9333333333333333, 'support': 144}, '2': {'precision': 0.9452054794520548, 'recall': 0.9583333333333334, 'f1-score': 0.9517241379310345, 'support': 144}, '3': {'precision': 0.9652777777777778, 'recall': 0.9455782312925171, 'f1-score': 0.9553264604810997, 'support': 147}, '4': {'precision': 0.9926470588235294, 'recall': 0.9642857142857143, 'f1-score': 0.9782608695652174, 'support': 140}, '5': {'precision': 0.9602649006622517, 'recall': 0.9731543624161074, 'f1-score': 0.9666666666666668, 'support': 149}, '6': {'precision': 0.9933333333333333, 'recall': 0.9933333333333333, 'f1-score': 0.9933333333333333, 'support': 150}, '7': {'precision': 0.93125, 'recall': 1.0, 'f1-score': 0.964401294498382, 'support': 149}, '8': {'precision': 0.8768115942028986, 'recall': 0.8962962962962963, 'f1-score': 0.8864468864468865, 'support': 135}, '9': {'precision': 0.9708029197080292, 'recall': 0.910958904109589, 'f1-score': 0.9399293286219081, 'support': 146}, 'accuracy': 0.9568845618915159, 'macro avg': {'precision': 0.9571448067899986, 'recall': 0.9565551286178001, 'f1-score': 0.9565704838758903, 'support': 1438}, 'weighted avg': {'precision': 0.9574100952326928, 'recall': 0.9568845618915159, 'f1-score': 0.9568628538878311, 'support': 1438}}\n",
            "[[134   0   0   0   0   0   0   0   0   0]\n",
            " [  0 133   5   0   0   0   1   0   5   0]\n",
            " [  0   1 138   0   0   0   0   0   5   0]\n",
            " [  0   0   2 139   0   0   0   2   4   0]\n",
            " [  0   2   0   0 135   0   0   2   1   0]\n",
            " [  0   0   0   1   1 145   0   0   0   2]\n",
            " [  1   0   0   0   0   0 149   0   0   0]\n",
            " [  0   0   0   0   0   0   0 149   0   0]\n",
            " [  0   5   1   1   0   4   0   1 121   2]\n",
            " [  0   0   0   3   0   2   0   6   2 133]]\n",
            "F1 Score: 0.9565704838758903\n",
            "Precision: 0.9571448067899986\n",
            "Recall: 0.9565551286178001\n",
            "Support: 1438\n"
          ]
        }
      ]
    },
    {
      "cell_type": "code",
      "source": [
        "aLAllSameImportanceDifEst(3, listaGaussianNB, GaussianNB())"
      ],
      "metadata": {
        "colab": {
          "base_uri": "https://localhost:8080/"
        },
        "id": "I6T9yRBEshrg",
        "outputId": "6a9219e8-e0f8-4a1b-e12e-8cfec03eb949"
      },
      "execution_count": null,
      "outputs": [
        {
          "output_type": "stream",
          "name": "stdout",
          "text": [
            "{'0': {'precision': 1.0, 'recall': 0.9552238805970149, 'f1-score': 0.9770992366412213, 'support': 134}, '1': {'precision': 0.7, 'recall': 0.3402777777777778, 'f1-score': 0.4579439252336448, 'support': 144}, '2': {'precision': 0.8151260504201681, 'recall': 0.6736111111111112, 'f1-score': 0.7376425855513309, 'support': 144}, '3': {'precision': 0.9145299145299145, 'recall': 0.7278911564625851, 'f1-score': 0.8106060606060606, 'support': 147}, '4': {'precision': 0.8811188811188811, 'recall': 0.9, 'f1-score': 0.8904593639575972, 'support': 140}, '5': {'precision': 0.8741721854304636, 'recall': 0.8859060402684564, 'f1-score': 0.8800000000000001, 'support': 149}, '6': {'precision': 0.9583333333333334, 'recall': 0.92, 'f1-score': 0.9387755102040817, 'support': 150}, '7': {'precision': 0.7487179487179487, 'recall': 0.9798657718120806, 'f1-score': 0.8488372093023255, 'support': 149}, '8': {'precision': 0.46, 'recall': 0.8518518518518519, 'f1-score': 0.5974025974025975, 'support': 135}, '9': {'precision': 0.8842975206611571, 'recall': 0.7328767123287672, 'f1-score': 0.801498127340824, 'support': 146}, 'accuracy': 0.7962447844228094, 'macro avg': {'precision': 0.8236295834211868, 'recall': 0.7967504302209646, 'f1-score': 0.7940264616239683, 'support': 1438}, 'weighted avg': {'precision': 0.8252703477452624, 'recall': 0.7962447844228094, 'f1-score': 0.7948541759971379, 'support': 1438}}\n",
            "[[128   2   0   0   1   0   0   1   1   1]\n",
            " [  0  49  15   0   9   1   2   7  57   4]\n",
            " [  0   7  97   1   0   2   2   0  35   0]\n",
            " [  0   2   3 107   0   3   1   5  23   3]\n",
            " [  0   1   1   0 126   0   0  11   0   1]\n",
            " [  0   0   0   1   3 132   0   6   3   4]\n",
            " [  0   3   0   0   2   7 138   0   0   0]\n",
            " [  0   1   0   0   0   1   0 146   0   1]\n",
            " [  0   1   3   3   2   4   0   7 115   0]\n",
            " [  0   4   0   5   0   1   1  12  16 107]]\n",
            "F1 Score: 0.7940264616239683\n",
            "Precision: 0.8236295834211868\n",
            "Recall: 0.7967504302209646\n",
            "Support: 1438\n"
          ]
        }
      ]
    },
    {
      "cell_type": "code",
      "source": [
        "aLAllSameImportanceDifEst(5, listaSVC, SVC(probability=True))"
      ],
      "metadata": {
        "colab": {
          "base_uri": "https://localhost:8080/"
        },
        "id": "3Yw9vdOJsoBo",
        "outputId": "89da3a03-fd03-4377-da9d-38f05ec62e6f"
      },
      "execution_count": null,
      "outputs": [
        {
          "output_type": "stream",
          "name": "stdout",
          "text": [
            "{'0': {'precision': 0.9852941176470589, 'recall': 1.0, 'f1-score': 0.9925925925925926, 'support': 134}, '1': {'precision': 0.9583333333333334, 'recall': 0.9583333333333334, 'f1-score': 0.9583333333333334, 'support': 144}, '2': {'precision': 0.9395973154362416, 'recall': 0.9722222222222222, 'f1-score': 0.9556313993174061, 'support': 144}, '3': {'precision': 1.0, 'recall': 0.9047619047619048, 'f1-score': 0.9500000000000001, 'support': 147}, '4': {'precision': 0.9927536231884058, 'recall': 0.9785714285714285, 'f1-score': 0.9856115107913668, 'support': 140}, '5': {'precision': 0.9731543624161074, 'recall': 0.9731543624161074, 'f1-score': 0.9731543624161074, 'support': 149}, '6': {'precision': 0.9932432432432432, 'recall': 0.98, 'f1-score': 0.9865771812080537, 'support': 150}, '7': {'precision': 0.930379746835443, 'recall': 0.9865771812080537, 'f1-score': 0.9576547231270359, 'support': 149}, '8': {'precision': 0.924812030075188, 'recall': 0.9111111111111111, 'f1-score': 0.917910447761194, 'support': 135}, '9': {'precision': 0.92, 'recall': 0.9452054794520548, 'f1-score': 0.9324324324324323, 'support': 146}, 'accuracy': 0.96105702364395, 'macro avg': {'precision': 0.9617567772175022, 'recall': 0.9609937023076215, 'f1-score': 0.9609897982979522, 'support': 1438}, 'weighted avg': {'precision': 0.9618217143664946, 'recall': 0.96105702364395, 'f1-score': 0.9610459783935592, 'support': 1438}}\n",
            "[[134   0   0   0   0   0   0   0   0   0]\n",
            " [  0 138   6   0   0   0   0   0   0   0]\n",
            " [  0   1 140   0   0   0   0   0   3   0]\n",
            " [  0   0   2 133   0   0   0   3   5   4]\n",
            " [  0   0   0   0 137   0   0   2   1   0]\n",
            " [  0   0   0   0   1 145   1   0   0   2]\n",
            " [  2   1   0   0   0   0 147   0   0   0]\n",
            " [  0   0   0   0   0   0   0 147   0   2]\n",
            " [  0   4   1   0   0   2   0   1 123   4]\n",
            " [  0   0   0   0   0   2   0   5   1 138]]\n",
            "F1 Score: 0.9609897982979522\n",
            "Precision: 0.9617567772175022\n",
            "Recall: 0.9609937023076215\n",
            "Support: 1438\n"
          ]
        }
      ]
    },
    {
      "cell_type": "code",
      "source": [
        "aLAllSameImportanceDifEst(5, listaKNeig, KNeighborsClassifier())"
      ],
      "metadata": {
        "colab": {
          "base_uri": "https://localhost:8080/"
        },
        "id": "YlT4vl4wsrqv",
        "outputId": "04ed8a93-3412-47af-c3ef-232950222190"
      },
      "execution_count": null,
      "outputs": [
        {
          "output_type": "stream",
          "name": "stdout",
          "text": [
            "{'0': {'precision': 0.9925925925925926, 'recall': 1.0, 'f1-score': 0.996282527881041, 'support': 134}, '1': {'precision': 0.9432624113475178, 'recall': 0.9236111111111112, 'f1-score': 0.9333333333333333, 'support': 144}, '2': {'precision': 0.9452054794520548, 'recall': 0.9583333333333334, 'f1-score': 0.9517241379310345, 'support': 144}, '3': {'precision': 0.9652777777777778, 'recall': 0.9455782312925171, 'f1-score': 0.9553264604810997, 'support': 147}, '4': {'precision': 0.9926470588235294, 'recall': 0.9642857142857143, 'f1-score': 0.9782608695652174, 'support': 140}, '5': {'precision': 0.9602649006622517, 'recall': 0.9731543624161074, 'f1-score': 0.9666666666666668, 'support': 149}, '6': {'precision': 0.9933333333333333, 'recall': 0.9933333333333333, 'f1-score': 0.9933333333333333, 'support': 150}, '7': {'precision': 0.93125, 'recall': 1.0, 'f1-score': 0.964401294498382, 'support': 149}, '8': {'precision': 0.8768115942028986, 'recall': 0.8962962962962963, 'f1-score': 0.8864468864468865, 'support': 135}, '9': {'precision': 0.9708029197080292, 'recall': 0.910958904109589, 'f1-score': 0.9399293286219081, 'support': 146}, 'accuracy': 0.9568845618915159, 'macro avg': {'precision': 0.9571448067899986, 'recall': 0.9565551286178001, 'f1-score': 0.9565704838758903, 'support': 1438}, 'weighted avg': {'precision': 0.9574100952326928, 'recall': 0.9568845618915159, 'f1-score': 0.9568628538878311, 'support': 1438}}\n",
            "[[134   0   0   0   0   0   0   0   0   0]\n",
            " [  0 133   5   0   0   0   1   0   5   0]\n",
            " [  0   1 138   0   0   0   0   0   5   0]\n",
            " [  0   0   2 139   0   0   0   2   4   0]\n",
            " [  0   2   0   0 135   0   0   2   1   0]\n",
            " [  0   0   0   1   1 145   0   0   0   2]\n",
            " [  1   0   0   0   0   0 149   0   0   0]\n",
            " [  0   0   0   0   0   0   0 149   0   0]\n",
            " [  0   5   1   1   0   4   0   1 121   2]\n",
            " [  0   0   0   3   0   2   0   6   2 133]]\n",
            "F1 Score: 0.9565704838758903\n",
            "Precision: 0.9571448067899986\n",
            "Recall: 0.9565551286178001\n",
            "Support: 1438\n"
          ]
        }
      ]
    },
    {
      "cell_type": "code",
      "source": [
        "aLAllSameImportanceDifEst(5, listaGaussianNB, GaussianNB())"
      ],
      "metadata": {
        "colab": {
          "base_uri": "https://localhost:8080/"
        },
        "id": "QfxOn2VjOzNF",
        "outputId": "538ed3c4-d7b2-4546-bd1a-9d8fdcf02de3"
      },
      "execution_count": null,
      "outputs": [
        {
          "output_type": "stream",
          "name": "stdout",
          "text": [
            "{'0': {'precision': 1.0, 'recall': 0.9552238805970149, 'f1-score': 0.9770992366412213, 'support': 134}, '1': {'precision': 0.7, 'recall': 0.3402777777777778, 'f1-score': 0.4579439252336448, 'support': 144}, '2': {'precision': 0.8151260504201681, 'recall': 0.6736111111111112, 'f1-score': 0.7376425855513309, 'support': 144}, '3': {'precision': 0.9145299145299145, 'recall': 0.7278911564625851, 'f1-score': 0.8106060606060606, 'support': 147}, '4': {'precision': 0.8811188811188811, 'recall': 0.9, 'f1-score': 0.8904593639575972, 'support': 140}, '5': {'precision': 0.8741721854304636, 'recall': 0.8859060402684564, 'f1-score': 0.8800000000000001, 'support': 149}, '6': {'precision': 0.9583333333333334, 'recall': 0.92, 'f1-score': 0.9387755102040817, 'support': 150}, '7': {'precision': 0.7487179487179487, 'recall': 0.9798657718120806, 'f1-score': 0.8488372093023255, 'support': 149}, '8': {'precision': 0.46, 'recall': 0.8518518518518519, 'f1-score': 0.5974025974025975, 'support': 135}, '9': {'precision': 0.8842975206611571, 'recall': 0.7328767123287672, 'f1-score': 0.801498127340824, 'support': 146}, 'accuracy': 0.7962447844228094, 'macro avg': {'precision': 0.8236295834211868, 'recall': 0.7967504302209646, 'f1-score': 0.7940264616239683, 'support': 1438}, 'weighted avg': {'precision': 0.8252703477452624, 'recall': 0.7962447844228094, 'f1-score': 0.7948541759971379, 'support': 1438}}\n",
            "[[128   2   0   0   1   0   0   1   1   1]\n",
            " [  0  49  15   0   9   1   2   7  57   4]\n",
            " [  0   7  97   1   0   2   2   0  35   0]\n",
            " [  0   2   3 107   0   3   1   5  23   3]\n",
            " [  0   1   1   0 126   0   0  11   0   1]\n",
            " [  0   0   0   1   3 132   0   6   3   4]\n",
            " [  0   3   0   0   2   7 138   0   0   0]\n",
            " [  0   1   0   0   0   1   0 146   0   1]\n",
            " [  0   1   3   3   2   4   0   7 115   0]\n",
            " [  0   4   0   5   0   1   1  12  16 107]]\n",
            "F1 Score: 0.7940264616239683\n",
            "Precision: 0.8236295834211868\n",
            "Recall: 0.7967504302209646\n",
            "Support: 1438\n"
          ]
        }
      ]
    },
    {
      "cell_type": "code",
      "source": [
        "aLAllSameImportanceDifEst(7, listaSVC, SVC(probability=True))"
      ],
      "metadata": {
        "colab": {
          "base_uri": "https://localhost:8080/"
        },
        "id": "EORs3XHvO3Uy",
        "outputId": "0d7b8b74-ef96-4234-bc30-7af3bba8cd88"
      },
      "execution_count": null,
      "outputs": [
        {
          "output_type": "stream",
          "name": "stdout",
          "text": [
            "{'0': {'precision': 0.9852941176470589, 'recall': 1.0, 'f1-score': 0.9925925925925926, 'support': 134}, '1': {'precision': 0.9586206896551724, 'recall': 0.9652777777777778, 'f1-score': 0.9619377162629758, 'support': 144}, '2': {'precision': 0.9395973154362416, 'recall': 0.9722222222222222, 'f1-score': 0.9556313993174061, 'support': 144}, '3': {'precision': 1.0, 'recall': 0.9047619047619048, 'f1-score': 0.9500000000000001, 'support': 147}, '4': {'precision': 0.9927536231884058, 'recall': 0.9785714285714285, 'f1-score': 0.9856115107913668, 'support': 140}, '5': {'precision': 0.9731543624161074, 'recall': 0.9731543624161074, 'f1-score': 0.9731543624161074, 'support': 149}, '6': {'precision': 0.9932432432432432, 'recall': 0.98, 'f1-score': 0.9865771812080537, 'support': 150}, '7': {'precision': 0.930379746835443, 'recall': 0.9865771812080537, 'f1-score': 0.9576547231270359, 'support': 149}, '8': {'precision': 0.9111111111111111, 'recall': 0.9111111111111111, 'f1-score': 0.9111111111111111, 'support': 135}, '9': {'precision': 0.9251700680272109, 'recall': 0.9315068493150684, 'f1-score': 0.9283276450511946, 'support': 146}, 'accuracy': 0.9603616133518776, 'macro avg': {'precision': 0.9609324277559994, 'recall': 0.9603182837383674, 'f1-score': 0.9602598241877844, 'support': 1438}, 'weighted avg': {'precision': 0.9610891588603523, 'recall': 0.9603616133518776, 'f1-score': 0.9603518349557613, 'support': 1438}}\n",
            "[[134   0   0   0   0   0   0   0   0   0]\n",
            " [  0 139   5   0   0   0   0   0   0   0]\n",
            " [  0   1 140   0   0   0   0   0   3   0]\n",
            " [  0   0   3 133   0   0   0   2   6   3]\n",
            " [  0   0   0   0 137   0   0   2   1   0]\n",
            " [  0   0   0   0   1 145   1   0   0   2]\n",
            " [  2   1   0   0   0   0 147   0   0   0]\n",
            " [  0   0   0   0   0   0   0 147   0   2]\n",
            " [  0   4   1   0   0   2   0   1 123   4]\n",
            " [  0   0   0   0   0   2   0   6   2 136]]\n",
            "F1 Score: 0.9602598241877844\n",
            "Precision: 0.9609324277559994\n",
            "Recall: 0.9603182837383674\n",
            "Support: 1438\n"
          ]
        }
      ]
    },
    {
      "cell_type": "code",
      "source": [
        "aLAllSameImportanceDifEst(7, listaKNeig, KNeighborsClassifier())"
      ],
      "metadata": {
        "colab": {
          "base_uri": "https://localhost:8080/"
        },
        "id": "okM-iwcGO9IK",
        "outputId": "c9552336-f579-4d37-cd5b-969c58e59769"
      },
      "execution_count": null,
      "outputs": [
        {
          "output_type": "stream",
          "name": "stdout",
          "text": [
            "{'0': {'precision': 0.9925925925925926, 'recall': 1.0, 'f1-score': 0.996282527881041, 'support': 134}, '1': {'precision': 0.9432624113475178, 'recall': 0.9236111111111112, 'f1-score': 0.9333333333333333, 'support': 144}, '2': {'precision': 0.9452054794520548, 'recall': 0.9583333333333334, 'f1-score': 0.9517241379310345, 'support': 144}, '3': {'precision': 0.9652777777777778, 'recall': 0.9455782312925171, 'f1-score': 0.9553264604810997, 'support': 147}, '4': {'precision': 0.9926470588235294, 'recall': 0.9642857142857143, 'f1-score': 0.9782608695652174, 'support': 140}, '5': {'precision': 0.9602649006622517, 'recall': 0.9731543624161074, 'f1-score': 0.9666666666666668, 'support': 149}, '6': {'precision': 0.9933333333333333, 'recall': 0.9933333333333333, 'f1-score': 0.9933333333333333, 'support': 150}, '7': {'precision': 0.93125, 'recall': 1.0, 'f1-score': 0.964401294498382, 'support': 149}, '8': {'precision': 0.8768115942028986, 'recall': 0.8962962962962963, 'f1-score': 0.8864468864468865, 'support': 135}, '9': {'precision': 0.9708029197080292, 'recall': 0.910958904109589, 'f1-score': 0.9399293286219081, 'support': 146}, 'accuracy': 0.9568845618915159, 'macro avg': {'precision': 0.9571448067899986, 'recall': 0.9565551286178001, 'f1-score': 0.9565704838758903, 'support': 1438}, 'weighted avg': {'precision': 0.9574100952326928, 'recall': 0.9568845618915159, 'f1-score': 0.9568628538878311, 'support': 1438}}\n",
            "[[134   0   0   0   0   0   0   0   0   0]\n",
            " [  0 133   5   0   0   0   1   0   5   0]\n",
            " [  0   1 138   0   0   0   0   0   5   0]\n",
            " [  0   0   2 139   0   0   0   2   4   0]\n",
            " [  0   2   0   0 135   0   0   2   1   0]\n",
            " [  0   0   0   1   1 145   0   0   0   2]\n",
            " [  1   0   0   0   0   0 149   0   0   0]\n",
            " [  0   0   0   0   0   0   0 149   0   0]\n",
            " [  0   5   1   1   0   4   0   1 121   2]\n",
            " [  0   0   0   3   0   2   0   6   2 133]]\n",
            "F1 Score: 0.9565704838758903\n",
            "Precision: 0.9571448067899986\n",
            "Recall: 0.9565551286178001\n",
            "Support: 1438\n"
          ]
        }
      ]
    },
    {
      "cell_type": "code",
      "source": [
        "aLAllSameImportanceDifEst(7, listaGaussianNB, GaussianNB())"
      ],
      "metadata": {
        "colab": {
          "base_uri": "https://localhost:8080/"
        },
        "id": "_5low0YqstLp",
        "outputId": "734a2499-8db3-443c-85f1-be9852568281"
      },
      "execution_count": null,
      "outputs": [
        {
          "output_type": "stream",
          "name": "stdout",
          "text": [
            "{'0': {'precision': 1.0, 'recall': 0.9552238805970149, 'f1-score': 0.9770992366412213, 'support': 134}, '1': {'precision': 0.7, 'recall': 0.3402777777777778, 'f1-score': 0.4579439252336448, 'support': 144}, '2': {'precision': 0.8151260504201681, 'recall': 0.6736111111111112, 'f1-score': 0.7376425855513309, 'support': 144}, '3': {'precision': 0.9145299145299145, 'recall': 0.7278911564625851, 'f1-score': 0.8106060606060606, 'support': 147}, '4': {'precision': 0.8811188811188811, 'recall': 0.9, 'f1-score': 0.8904593639575972, 'support': 140}, '5': {'precision': 0.8741721854304636, 'recall': 0.8859060402684564, 'f1-score': 0.8800000000000001, 'support': 149}, '6': {'precision': 0.9583333333333334, 'recall': 0.92, 'f1-score': 0.9387755102040817, 'support': 150}, '7': {'precision': 0.7487179487179487, 'recall': 0.9798657718120806, 'f1-score': 0.8488372093023255, 'support': 149}, '8': {'precision': 0.46, 'recall': 0.8518518518518519, 'f1-score': 0.5974025974025975, 'support': 135}, '9': {'precision': 0.8842975206611571, 'recall': 0.7328767123287672, 'f1-score': 0.801498127340824, 'support': 146}, 'accuracy': 0.7962447844228094, 'macro avg': {'precision': 0.8236295834211868, 'recall': 0.7967504302209646, 'f1-score': 0.7940264616239683, 'support': 1438}, 'weighted avg': {'precision': 0.8252703477452624, 'recall': 0.7962447844228094, 'f1-score': 0.7948541759971379, 'support': 1438}}\n",
            "[[128   2   0   0   1   0   0   1   1   1]\n",
            " [  0  49  15   0   9   1   2   7  57   4]\n",
            " [  0   7  97   1   0   2   2   0  35   0]\n",
            " [  0   2   3 107   0   3   1   5  23   3]\n",
            " [  0   1   1   0 126   0   0  11   0   1]\n",
            " [  0   0   0   1   3 132   0   6   3   4]\n",
            " [  0   3   0   0   2   7 138   0   0   0]\n",
            " [  0   1   0   0   0   1   0 146   0   1]\n",
            " [  0   1   3   3   2   4   0   7 115   0]\n",
            " [  0   4   0   5   0   1   1  12  16 107]]\n",
            "F1 Score: 0.7940264616239683\n",
            "Precision: 0.8236295834211868\n",
            "Recall: 0.7967504302209646\n",
            "Support: 1438\n"
          ]
        }
      ]
    },
    {
      "cell_type": "code",
      "source": [
        "def aLDifferentImportanceDifEst(howmany, lista, estimator):\n",
        "   # Load the digits dataset\n",
        "   digits = load_digits()\n",
        "   X = digits.data\n",
        "   y = digits.target\n",
        "\n",
        "   # Split the dataset into a training set and a test set with a test size of 80%\n",
        "   X_train, X_test, y_train, y_test = train_test_split(X, y, test_size=0.8, random_state=42)\n",
        "\n",
        "   # Initialize a list of ActiveLearner objects\n",
        "   learners = [ActiveLearner(estimator=estimator, X_training=X_train, y_training=y_train) for _ in range(howmany)]\n",
        "\n",
        "   # Determine the number of learners to be given more training\n",
        "   num_learners = howmany\n",
        "   num_additional_training = math.ceil(num_learners / 4)\n",
        "\n",
        "   # Create a list of learners to be given more training\n",
        "   additional_training_learners = random.sample(learners, num_additional_training)\n",
        "\n",
        "   # Train the additional learners twice\n",
        "   for learner in additional_training_learners:\n",
        "       learner.fit(X_train, y_train)\n",
        "       learner.fit(X_train, y_train)\n",
        "\n",
        "   # Create a custom Committee class\n",
        "   class CustomCommittee(Committee):\n",
        "       def __init__(self, learner_list, query_strategy, additional_training_learners):\n",
        "           super().__init__(learner_list, query_strategy)\n",
        "           self.additional_training_learners = additional_training_learners\n",
        "\n",
        "       def predict_proba(self, X):\n",
        "           probabilities = super().predict_proba(X)\n",
        "           for learner in self.additional_training_learners:\n",
        "               learner_idx = self.learner_list.index(learner)\n",
        "               probabilities[:, learner_idx] *= 1.5\n",
        "           return probabilities\n",
        "\n",
        "   # Create a Committee object\n",
        "   committee = CustomCommittee(\n",
        "       learner_list=learners,\n",
        "       query_strategy=vote_entropy_sampling,\n",
        "       additional_training_learners=additional_training_learners\n",
        "   )\n",
        "\n",
        "   # Train the committee\n",
        "   committee.fit(X_train, y_train)\n",
        "\n",
        "   # Store the true labels and the predicted labels for all iterations\n",
        "   true_labels = []\n",
        "   predicted_labels = []\n",
        "\n",
        "   # Iterate through each 20% of the test set\n",
        "   test_set_size = len(X_test)\n",
        "   for start_idx in range(0, test_set_size, int(0.2*test_set_size)):\n",
        "       # Predict the probabilities for the image the model is most unsure about in the current 20% of the test set\n",
        "       X_test_current_20_percent = X_test[start_idx:start_idx+int(0.2*test_set_size)]\n",
        "       predicted_probabilities = committee.predict_proba(X_test_current_20_percent)\n",
        "\n",
        "       # Get the indices of the 5 most uncertain images\n",
        "       most_uncertain_indices = np.argsort(np.std(predicted_probabilities, axis=1))[-5:]\n",
        "\n",
        "       # Use the committee's decision as the true label for training\n",
        "       committee.teach(\n",
        "           X=X_test_current_20_percent[most_uncertain_indices],\n",
        "           y=np.argmax(predicted_probabilities[most_uncertain_indices], axis=1)\n",
        "       )\n",
        "\n",
        "       # Store the true labels and the predicted labels for the current 20% of the test set\n",
        "       true_labels.extend(y_test[start_idx:start_idx+int(0.2*test_set_size)])\n",
        "       predicted_labels.extend(committee.predict(X_test_current_20_percent))\n",
        "\n",
        "   # Print the classification report and the confusion matrix for the true labels and the predicted labels\n",
        "   report = classification_report(true_labels, predicted_labels, output_dict=True)\n",
        "   print(report)\n",
        "   lista.append(report)\n",
        "   print(confusion_matrix(true_labels, predicted_labels))\n",
        "\n",
        "   # Calculate and print the AUC-ROC, log loss, F1 score, precision, recall, and support\n",
        "   print(\"F1 Score:\", report['macro avg']['f1-score'])\n",
        "   print(\"Precision:\", report['macro avg']['precision'])\n",
        "   print(\"Recall:\", report['macro avg']['recall'])\n",
        "   print(\"Support:\", report['macro avg']['support'])\n"
      ],
      "metadata": {
        "id": "D0Ct3VrewKHi"
      },
      "execution_count": null,
      "outputs": []
    },
    {
      "cell_type": "code",
      "source": [
        "aLDifferentImportanceDifEst(3, listaSVC, SVC(probability=True))"
      ],
      "metadata": {
        "colab": {
          "base_uri": "https://localhost:8080/"
        },
        "id": "25d4RJuvwQyk",
        "outputId": "a52ccaa5-7af1-4d98-a90e-099fed9b7a01"
      },
      "execution_count": null,
      "outputs": [
        {
          "output_type": "stream",
          "name": "stdout",
          "text": [
            "{'0': {'precision': 0.9925925925925926, 'recall': 1.0, 'f1-score': 0.996282527881041, 'support': 134}, '1': {'precision': 0.9577464788732394, 'recall': 0.9444444444444444, 'f1-score': 0.951048951048951, 'support': 144}, '2': {'precision': 0.9038461538461539, 'recall': 0.9791666666666666, 'f1-score': 0.9400000000000001, 'support': 144}, '3': {'precision': 1.0, 'recall': 0.8979591836734694, 'f1-score': 0.9462365591397849, 'support': 147}, '4': {'precision': 0.9928057553956835, 'recall': 0.9857142857142858, 'f1-score': 0.989247311827957, 'support': 140}, '5': {'precision': 0.9664429530201343, 'recall': 0.9664429530201343, 'f1-score': 0.9664429530201343, 'support': 149}, '6': {'precision': 0.9932432432432432, 'recall': 0.98, 'f1-score': 0.9865771812080537, 'support': 150}, '7': {'precision': 0.9483870967741935, 'recall': 0.9865771812080537, 'f1-score': 0.9671052631578947, 'support': 149}, '8': {'precision': 0.917910447761194, 'recall': 0.9111111111111111, 'f1-score': 0.9144981412639405, 'support': 135}, '9': {'precision': 0.9256756756756757, 'recall': 0.9383561643835616, 'f1-score': 0.9319727891156463, 'support': 146}, 'accuracy': 0.958970792767733, 'macro avg': {'precision': 0.959865039718211, 'recall': 0.9589771990221726, 'f1-score': 0.9589411677663403, 'support': 1438}, 'weighted avg': {'precision': 0.959966811736194, 'recall': 0.958970792767733, 'f1-score': 0.95898111488861, 'support': 1438}}\n",
            "[[134   0   0   0   0   0   0   0   0   0]\n",
            " [  0 136   8   0   0   0   0   0   0   0]\n",
            " [  0   1 141   0   0   0   0   0   2   0]\n",
            " [  0   0   5 132   0   0   0   2   5   3]\n",
            " [  0   0   0   0 138   0   0   0   2   0]\n",
            " [  0   0   0   0   1 144   1   0   0   3]\n",
            " [  1   1   0   0   0   1 147   0   0   0]\n",
            " [  0   0   0   0   0   0   0 147   0   2]\n",
            " [  0   4   2   0   0   2   0   1 123   3]\n",
            " [  0   0   0   0   0   2   0   5   2 137]]\n",
            "F1 Score: 0.9589411677663403\n",
            "Precision: 0.959865039718211\n",
            "Recall: 0.9589771990221726\n",
            "Support: 1438\n"
          ]
        }
      ]
    },
    {
      "cell_type": "code",
      "source": [
        "aLDifferentImportanceDifEst(3,listaKNeig, KNeighborsClassifier())"
      ],
      "metadata": {
        "colab": {
          "base_uri": "https://localhost:8080/"
        },
        "id": "wjomV4L7wi9j",
        "outputId": "589c1ab4-3dea-46b2-9618-044bef637721"
      },
      "execution_count": null,
      "outputs": [
        {
          "output_type": "stream",
          "name": "stdout",
          "text": [
            "{'0': {'precision': 0.9710144927536232, 'recall': 1.0, 'f1-score': 0.9852941176470589, 'support': 134}, '1': {'precision': 0.9432624113475178, 'recall': 0.9236111111111112, 'f1-score': 0.9333333333333333, 'support': 144}, '2': {'precision': 0.9452054794520548, 'recall': 0.9583333333333334, 'f1-score': 0.9517241379310345, 'support': 144}, '3': {'precision': 0.9583333333333334, 'recall': 0.9387755102040817, 'f1-score': 0.9484536082474228, 'support': 147}, '4': {'precision': 0.9926470588235294, 'recall': 0.9642857142857143, 'f1-score': 0.9782608695652174, 'support': 140}, '5': {'precision': 0.9602649006622517, 'recall': 0.9731543624161074, 'f1-score': 0.9666666666666668, 'support': 149}, '6': {'precision': 0.9932885906040269, 'recall': 0.9866666666666667, 'f1-score': 0.9899665551839465, 'support': 150}, '7': {'precision': 0.9254658385093167, 'recall': 1.0, 'f1-score': 0.9612903225806452, 'support': 149}, '8': {'precision': 0.8832116788321168, 'recall': 0.8962962962962963, 'f1-score': 0.8897058823529411, 'support': 135}, '9': {'precision': 0.9777777777777777, 'recall': 0.9041095890410958, 'f1-score': 0.9395017793594306, 'support': 146}, 'accuracy': 0.954798331015299, 'macro avg': {'precision': 0.9550471562095548, 'recall': 0.9545232583354405, 'f1-score': 0.9544197272867697, 'support': 1438}, 'weighted avg': {'precision': 0.9553944419085376, 'recall': 0.954798331015299, 'f1-score': 0.9547253257008637, 'support': 1438}}\n",
            "[[134   0   0   0   0   0   0   0   0   0]\n",
            " [  0 133   5   0   0   0   1   0   5   0]\n",
            " [  0   1 138   0   0   0   0   0   5   0]\n",
            " [  1   0   2 138   0   0   0   2   4   0]\n",
            " [  0   2   0   0 135   0   0   3   0   0]\n",
            " [  0   0   0   2   1 145   0   0   0   1]\n",
            " [  2   0   0   0   0   0 148   0   0   0]\n",
            " [  0   0   0   0   0   0   0 149   0   0]\n",
            " [  0   5   1   1   0   4   0   1 121   2]\n",
            " [  1   0   0   3   0   2   0   6   2 132]]\n",
            "F1 Score: 0.9544197272867697\n",
            "Precision: 0.9550471562095548\n",
            "Recall: 0.9545232583354405\n",
            "Support: 1438\n"
          ]
        }
      ]
    },
    {
      "cell_type": "code",
      "source": [
        "aLDifferentImportanceDifEst(3, listaGaussianNB, GaussianNB())"
      ],
      "metadata": {
        "colab": {
          "base_uri": "https://localhost:8080/"
        },
        "id": "mps9Yl5pwk5u",
        "outputId": "52810673-39e4-4c27-b290-4a2de6fde057"
      },
      "execution_count": null,
      "outputs": [
        {
          "output_type": "stream",
          "name": "stdout",
          "text": [
            "{'0': {'precision': 1.0, 'recall': 0.9552238805970149, 'f1-score': 0.9770992366412213, 'support': 134}, '1': {'precision': 0.6901408450704225, 'recall': 0.3402777777777778, 'f1-score': 0.4558139534883721, 'support': 144}, '2': {'precision': 0.8103448275862069, 'recall': 0.6527777777777778, 'f1-score': 0.7230769230769231, 'support': 144}, '3': {'precision': 0.9217391304347826, 'recall': 0.7210884353741497, 'f1-score': 0.8091603053435116, 'support': 147}, '4': {'precision': 0.875, 'recall': 0.9, 'f1-score': 0.8873239436619719, 'support': 140}, '5': {'precision': 0.8741721854304636, 'recall': 0.8859060402684564, 'f1-score': 0.8800000000000001, 'support': 149}, '6': {'precision': 0.9583333333333334, 'recall': 0.92, 'f1-score': 0.9387755102040817, 'support': 150}, '7': {'precision': 0.7923497267759563, 'recall': 0.9731543624161074, 'f1-score': 0.8734939759036144, 'support': 149}, '8': {'precision': 0.45038167938931295, 'recall': 0.8740740740740741, 'f1-score': 0.5944584382871536, 'support': 135}, '9': {'precision': 0.8790322580645161, 'recall': 0.7465753424657534, 'f1-score': 0.8074074074074075, 'support': 146}, 'accuracy': 0.7962447844228094, 'macro avg': {'precision': 0.8251493986084995, 'recall': 0.7969077690751112, 'f1-score': 0.7946609694014257, 'support': 1438}, 'weighted avg': {'precision': 0.8270289223575804, 'recall': 0.7962447844228094, 'f1-score': 0.7956076498776052, 'support': 1438}}\n",
            "[[128   2   0   0   1   0   0   1   1   1]\n",
            " [  0  49  15   0   9   1   2   5  59   4]\n",
            " [  0   8  94   1   0   2   2   0  37   0]\n",
            " [  0   2   3 106   0   3   1   4  25   3]\n",
            " [  0   1   1   0 126   0   0  11   0   1]\n",
            " [  0   0   0   1   3 132   0   4   4   5]\n",
            " [  0   3   0   0   2   7 138   0   0   0]\n",
            " [  0   1   0   0   0   1   0 145   1   1]\n",
            " [  0   1   3   3   3   4   0   3 118   0]\n",
            " [  0   4   0   4   0   1   1  10  17 109]]\n",
            "F1 Score: 0.7946609694014257\n",
            "Precision: 0.8251493986084995\n",
            "Recall: 0.7969077690751112\n",
            "Support: 1438\n"
          ]
        }
      ]
    },
    {
      "cell_type": "code",
      "source": [
        "aLDifferentImportanceDifEst(5, listaSVC, SVC(probability=True))"
      ],
      "metadata": {
        "colab": {
          "base_uri": "https://localhost:8080/"
        },
        "id": "gRLzLFh7wt2A",
        "outputId": "c98b43e2-ed40-478e-a370-c6d460440edd"
      },
      "execution_count": null,
      "outputs": [
        {
          "output_type": "stream",
          "name": "stdout",
          "text": [
            "{'0': {'precision': 0.9852941176470589, 'recall': 1.0, 'f1-score': 0.9925925925925926, 'support': 134}, '1': {'precision': 0.952054794520548, 'recall': 0.9652777777777778, 'f1-score': 0.9586206896551724, 'support': 144}, '2': {'precision': 0.9395973154362416, 'recall': 0.9722222222222222, 'f1-score': 0.9556313993174061, 'support': 144}, '3': {'precision': 1.0, 'recall': 0.9047619047619048, 'f1-score': 0.9500000000000001, 'support': 147}, '4': {'precision': 0.9858156028368794, 'recall': 0.9928571428571429, 'f1-score': 0.9893238434163701, 'support': 140}, '5': {'precision': 0.9731543624161074, 'recall': 0.9731543624161074, 'f1-score': 0.9731543624161074, 'support': 149}, '6': {'precision': 0.9932432432432432, 'recall': 0.98, 'f1-score': 0.9865771812080537, 'support': 150}, '7': {'precision': 0.948051948051948, 'recall': 0.9798657718120806, 'f1-score': 0.9636963696369636, 'support': 149}, '8': {'precision': 0.9104477611940298, 'recall': 0.9037037037037037, 'f1-score': 0.9070631970260223, 'support': 135}, '9': {'precision': 0.9256756756756757, 'recall': 0.9383561643835616, 'f1-score': 0.9319727891156463, 'support': 146}, 'accuracy': 0.96105702364395, 'macro avg': {'precision': 0.9613334821021733, 'recall': 0.96101990499345, 'f1-score': 0.9608632424384334, 'support': 1438}, 'weighted avg': {'precision': 0.9615763721500113, 'recall': 0.96105702364395, 'f1-score': 0.9609971775829372, 'support': 1438}}\n",
            "[[134   0   0   0   0   0   0   0   0   0]\n",
            " [  0 139   5   0   0   0   0   0   0   0]\n",
            " [  0   1 140   0   0   0   0   0   3   0]\n",
            " [  0   0   3 133   0   0   0   2   6   3]\n",
            " [  0   0   0   0 139   0   0   0   1   0]\n",
            " [  0   0   0   0   1 145   1   0   0   2]\n",
            " [  2   1   0   0   0   0 147   0   0   0]\n",
            " [  0   0   0   0   1   0   0 146   0   2]\n",
            " [  0   5   1   0   0   2   0   1 122   4]\n",
            " [  0   0   0   0   0   2   0   5   2 137]]\n",
            "F1 Score: 0.9608632424384334\n",
            "Precision: 0.9613334821021733\n",
            "Recall: 0.96101990499345\n",
            "Support: 1438\n"
          ]
        }
      ]
    },
    {
      "cell_type": "code",
      "source": [
        "aLDifferentImportanceDifEst(5,listaKNeig, KNeighborsClassifier())"
      ],
      "metadata": {
        "colab": {
          "base_uri": "https://localhost:8080/"
        },
        "id": "KACONQ3OwysV",
        "outputId": "c9b33858-52a1-4396-a227-4456d66a4822"
      },
      "execution_count": null,
      "outputs": [
        {
          "output_type": "stream",
          "name": "stdout",
          "text": [
            "{'0': {'precision': 0.9925925925925926, 'recall': 1.0, 'f1-score': 0.996282527881041, 'support': 134}, '1': {'precision': 0.9558823529411765, 'recall': 0.9027777777777778, 'f1-score': 0.9285714285714286, 'support': 144}, '2': {'precision': 0.9276315789473685, 'recall': 0.9791666666666666, 'f1-score': 0.9527027027027027, 'support': 144}, '3': {'precision': 0.9586206896551724, 'recall': 0.9455782312925171, 'f1-score': 0.952054794520548, 'support': 147}, '4': {'precision': 0.9927536231884058, 'recall': 0.9785714285714285, 'f1-score': 0.9856115107913668, 'support': 140}, '5': {'precision': 0.9602649006622517, 'recall': 0.9731543624161074, 'f1-score': 0.9666666666666668, 'support': 149}, '6': {'precision': 0.9933333333333333, 'recall': 0.9933333333333333, 'f1-score': 0.9933333333333333, 'support': 150}, '7': {'precision': 0.9254658385093167, 'recall': 1.0, 'f1-score': 0.9612903225806452, 'support': 149}, '8': {'precision': 0.9029850746268657, 'recall': 0.8962962962962963, 'f1-score': 0.899628252788104, 'support': 135}, '9': {'precision': 0.9779411764705882, 'recall': 0.910958904109589, 'f1-score': 0.9432624113475178, 'support': 146}, 'accuracy': 0.9582753824756607, 'macro avg': {'precision': 0.9587471160927071, 'recall': 0.9579837000463716, 'f1-score': 0.9579403951183354, 'support': 1438}, 'weighted avg': {'precision': 0.958826452851837, 'recall': 0.9582753824756607, 'f1-score': 0.9581187187244975, 'support': 1438}}\n",
            "[[134   0   0   0   0   0   0   0   0   0]\n",
            " [  0 130   8   0   0   0   1   0   5   0]\n",
            " [  0   1 141   0   0   0   0   0   2   0]\n",
            " [  0   0   2 139   0   0   0   2   4   0]\n",
            " [  0   0   0   0 137   0   0   3   0   0]\n",
            " [  0   0   0   2   1 145   0   0   0   1]\n",
            " [  1   0   0   0   0   0 149   0   0   0]\n",
            " [  0   0   0   0   0   0   0 149   0   0]\n",
            " [  0   5   1   1   0   4   0   1 121   2]\n",
            " [  0   0   0   3   0   2   0   6   2 133]]\n",
            "F1 Score: 0.9579403951183354\n",
            "Precision: 0.9587471160927071\n",
            "Recall: 0.9579837000463716\n",
            "Support: 1438\n"
          ]
        }
      ]
    },
    {
      "cell_type": "code",
      "source": [
        "aLDifferentImportanceDifEst(5, listaGaussianNB, GaussianNB())"
      ],
      "metadata": {
        "colab": {
          "base_uri": "https://localhost:8080/"
        },
        "id": "Eu-aHcvLwyzc",
        "outputId": "6425dc3a-2ed8-472a-e605-c163541853ea"
      },
      "execution_count": null,
      "outputs": [
        {
          "output_type": "stream",
          "name": "stdout",
          "text": [
            "{'0': {'precision': 1.0, 'recall': 0.9552238805970149, 'f1-score': 0.9770992366412213, 'support': 134}, '1': {'precision': 0.6, 'recall': 0.3333333333333333, 'f1-score': 0.42857142857142855, 'support': 144}, '2': {'precision': 0.831858407079646, 'recall': 0.6527777777777778, 'f1-score': 0.7315175097276265, 'support': 144}, '3': {'precision': 0.9217391304347826, 'recall': 0.7210884353741497, 'f1-score': 0.8091603053435116, 'support': 147}, '4': {'precision': 0.9130434782608695, 'recall': 0.9, 'f1-score': 0.9064748201438848, 'support': 140}, '5': {'precision': 0.8627450980392157, 'recall': 0.8859060402684564, 'f1-score': 0.8741721854304637, 'support': 149}, '6': {'precision': 0.958041958041958, 'recall': 0.9133333333333333, 'f1-score': 0.9351535836177474, 'support': 150}, '7': {'precision': 0.7795698924731183, 'recall': 0.9731543624161074, 'f1-score': 0.8656716417910448, 'support': 149}, '8': {'precision': 0.44360902255639095, 'recall': 0.8740740740740741, 'f1-score': 0.5885286783042394, 'support': 135}, '9': {'precision': 0.896551724137931, 'recall': 0.7123287671232876, 'f1-score': 0.7938931297709924, 'support': 146}, 'accuracy': 0.7913769123783032, 'macro avg': {'precision': 0.8207158711023912, 'recall': 0.7921220004297534, 'f1-score': 0.7910242519342161, 'support': 1438}, 'weighted avg': {'precision': 0.8224647752515898, 'recall': 0.7913769123783032, 'f1-score': 0.7918683455124698, 'support': 1438}}\n",
            "[[128   2   0   0   1   0   0   1   1   1]\n",
            " [  0  48  14   0   6   1   3   7  64   1]\n",
            " [  0   8  94   1   0   2   2   0  37   0]\n",
            " [  0   3   3 106   0   3   0   4  25   3]\n",
            " [  0   1   0   0 126   0   0  12   0   1]\n",
            " [  0   1   0   1   3 132   0   4   3   5]\n",
            " [  0   4   0   0   1   8 137   0   0   0]\n",
            " [  0   1   0   0   0   1   0 145   1   1]\n",
            " [  0   3   2   3   1   5   0   3 118   0]\n",
            " [  0   9   0   4   0   1   1  10  17 104]]\n",
            "F1 Score: 0.7910242519342161\n",
            "Precision: 0.8207158711023912\n",
            "Recall: 0.7921220004297534\n",
            "Support: 1438\n"
          ]
        }
      ]
    },
    {
      "cell_type": "code",
      "source": [
        "aLDifferentImportanceDifEst(7, listaSVC, SVC(probability=True))"
      ],
      "metadata": {
        "colab": {
          "base_uri": "https://localhost:8080/"
        },
        "id": "NmgARlqXw4o8",
        "outputId": "d18efed9-1d63-4ce5-bb9a-496d9dc8029d"
      },
      "execution_count": null,
      "outputs": [
        {
          "output_type": "stream",
          "name": "stdout",
          "text": [
            "{'0': {'precision': 0.9852941176470589, 'recall': 1.0, 'f1-score': 0.9925925925925926, 'support': 134}, '1': {'precision': 0.9513888888888888, 'recall': 0.9513888888888888, 'f1-score': 0.9513888888888888, 'support': 144}, '2': {'precision': 0.9096774193548387, 'recall': 0.9791666666666666, 'f1-score': 0.94314381270903, 'support': 144}, '3': {'precision': 1.0, 'recall': 0.8979591836734694, 'f1-score': 0.9462365591397849, 'support': 147}, '4': {'precision': 0.9927536231884058, 'recall': 0.9785714285714285, 'f1-score': 0.9856115107913668, 'support': 140}, '5': {'precision': 0.9731543624161074, 'recall': 0.9731543624161074, 'f1-score': 0.9731543624161074, 'support': 149}, '6': {'precision': 0.9932432432432432, 'recall': 0.98, 'f1-score': 0.9865771812080537, 'support': 150}, '7': {'precision': 0.9363057324840764, 'recall': 0.9865771812080537, 'f1-score': 0.9607843137254902, 'support': 149}, '8': {'precision': 0.9242424242424242, 'recall': 0.9037037037037037, 'f1-score': 0.9138576779026217, 'support': 135}, '9': {'precision': 0.9319727891156463, 'recall': 0.9383561643835616, 'f1-score': 0.9351535836177475, 'support': 146}, 'accuracy': 0.958970792767733, 'macro avg': {'precision': 0.9598032600580689, 'recall': 0.9588877579511881, 'f1-score': 0.9588500482991684, 'support': 1438}, 'weighted avg': {'precision': 0.9599063021616168, 'recall': 0.958970792767733, 'f1-score': 0.95893543240139, 'support': 1438}}\n",
            "[[134   0   0   0   0   0   0   0   0   0]\n",
            " [  0 137   7   0   0   0   0   0   0   0]\n",
            " [  0   1 141   0   0   0   0   0   2   0]\n",
            " [  0   0   5 132   0   0   0   2   5   3]\n",
            " [  0   0   0   0 137   0   0   2   1   0]\n",
            " [  0   0   0   0   1 145   1   0   0   2]\n",
            " [  2   1   0   0   0   0 147   0   0   0]\n",
            " [  0   0   0   0   0   0   0 147   0   2]\n",
            " [  0   5   2   0   0   2   0   1 122   3]\n",
            " [  0   0   0   0   0   2   0   5   2 137]]\n",
            "F1 Score: 0.9588500482991684\n",
            "Precision: 0.9598032600580689\n",
            "Recall: 0.9588877579511881\n",
            "Support: 1438\n"
          ]
        }
      ]
    },
    {
      "cell_type": "code",
      "source": [
        "aLDifferentImportanceDifEst(7,listaKNeig, KNeighborsClassifier())"
      ],
      "metadata": {
        "colab": {
          "base_uri": "https://localhost:8080/"
        },
        "id": "DwCmnc5cwWN0",
        "outputId": "b98890b4-c373-48f9-ca98-5ff4dd94c522"
      },
      "execution_count": null,
      "outputs": [
        {
          "output_type": "stream",
          "name": "stdout",
          "text": [
            "{'0': {'precision': 0.9925925925925926, 'recall': 1.0, 'f1-score': 0.996282527881041, 'support': 134}, '1': {'precision': 0.9428571428571428, 'recall': 0.9166666666666666, 'f1-score': 0.9295774647887323, 'support': 144}, '2': {'precision': 0.9452054794520548, 'recall': 0.9583333333333334, 'f1-score': 0.9517241379310345, 'support': 144}, '3': {'precision': 0.9788732394366197, 'recall': 0.9455782312925171, 'f1-score': 0.9619377162629758, 'support': 147}, '4': {'precision': 0.9926470588235294, 'recall': 0.9642857142857143, 'f1-score': 0.9782608695652174, 'support': 140}, '5': {'precision': 0.9419354838709677, 'recall': 0.9798657718120806, 'f1-score': 0.9605263157894737, 'support': 149}, '6': {'precision': 0.9738562091503268, 'recall': 0.9933333333333333, 'f1-score': 0.9834983498349835, 'support': 150}, '7': {'precision': 0.9254658385093167, 'recall': 1.0, 'f1-score': 0.9612903225806452, 'support': 149}, '8': {'precision': 0.8814814814814815, 'recall': 0.8814814814814815, 'f1-score': 0.8814814814814815, 'support': 135}, '9': {'precision': 0.9851851851851852, 'recall': 0.910958904109589, 'f1-score': 0.9466192170818505, 'support': 146}, 'accuracy': 0.9554937413073713, 'macro avg': {'precision': 0.9560099711359218, 'recall': 0.9550503436314717, 'f1-score': 0.9551198403197436, 'support': 1438}, 'weighted avg': {'precision': 0.9561277085512221, 'recall': 0.9554937413073713, 'f1-score': 0.9553911633128228, 'support': 1438}}\n",
            "[[134   0   0   0   0   0   0   0   0   0]\n",
            " [  0 132   5   0   0   0   2   0   5   0]\n",
            " [  0   1 138   0   0   0   0   0   5   0]\n",
            " [  0   0   2 139   0   0   0   2   4   0]\n",
            " [  0   2   0   0 135   0   0   3   0   0]\n",
            " [  0   0   0   1   1 146   1   0   0   0]\n",
            " [  1   0   0   0   0   0 149   0   0   0]\n",
            " [  0   0   0   0   0   0   0 149   0   0]\n",
            " [  0   5   1   0   0   6   1   1 119   2]\n",
            " [  0   0   0   2   0   3   0   6   2 133]]\n",
            "F1 Score: 0.9551198403197436\n",
            "Precision: 0.9560099711359218\n",
            "Recall: 0.9550503436314717\n",
            "Support: 1438\n"
          ]
        }
      ]
    },
    {
      "cell_type": "code",
      "source": [
        "aLDifferentImportanceDifEst(7, listaGaussianNB, GaussianNB())"
      ],
      "metadata": {
        "colab": {
          "base_uri": "https://localhost:8080/"
        },
        "id": "0mOhngdbwS3Z",
        "outputId": "2c0d9c84-28fd-4bb0-d607-a3aac7c4e602"
      },
      "execution_count": null,
      "outputs": [
        {
          "output_type": "stream",
          "name": "stdout",
          "text": [
            "{'0': {'precision': 1.0, 'recall': 0.9552238805970149, 'f1-score': 0.9770992366412213, 'support': 134}, '1': {'precision': 0.6486486486486487, 'recall': 0.3333333333333333, 'f1-score': 0.44036697247706424, 'support': 144}, '2': {'precision': 0.8034188034188035, 'recall': 0.6527777777777778, 'f1-score': 0.7203065134099617, 'support': 144}, '3': {'precision': 0.9217391304347826, 'recall': 0.7210884353741497, 'f1-score': 0.8091603053435116, 'support': 147}, '4': {'precision': 0.8873239436619719, 'recall': 0.9, 'f1-score': 0.8936170212765958, 'support': 140}, '5': {'precision': 0.88, 'recall': 0.8859060402684564, 'f1-score': 0.8829431438127091, 'support': 149}, '6': {'precision': 0.9647887323943662, 'recall': 0.9133333333333333, 'f1-score': 0.9383561643835617, 'support': 150}, '7': {'precision': 0.7923497267759563, 'recall': 0.9731543624161074, 'f1-score': 0.8734939759036144, 'support': 149}, '8': {'precision': 0.44528301886792454, 'recall': 0.8740740740740741, 'f1-score': 0.59, 'support': 135}, '9': {'precision': 0.8852459016393442, 'recall': 0.7397260273972602, 'f1-score': 0.8059701492537313, 'support': 146}, 'accuracy': 0.7941585535465925, 'macro avg': {'precision': 0.8228797905841798, 'recall': 0.7948617264571507, 'f1-score': 0.7931313482501972, 'support': 1438}, 'weighted avg': {'precision': 0.8248096284559032, 'recall': 0.7941585535465925, 'f1-score': 0.7940927849987386, 'support': 1438}}\n",
            "[[128   2   0   0   1   0   0   1   1   1]\n",
            " [  0  48  16   0   7   1   2   5  62   3]\n",
            " [  0   8  94   1   0   2   2   0  37   0]\n",
            " [  0   3   3 106   0   3   0   4  25   3]\n",
            " [  0   1   1   0 126   0   0  11   0   1]\n",
            " [  0   0   0   1   3 132   0   4   4   5]\n",
            " [  0   5   0   0   2   6 137   0   0   0]\n",
            " [  0   1   0   0   0   1   0 145   1   1]\n",
            " [  0   1   3   3   3   4   0   3 118   0]\n",
            " [  0   5   0   4   0   1   1  10  17 108]]\n",
            "F1 Score: 0.7931313482501972\n",
            "Precision: 0.8228797905841798\n",
            "Recall: 0.7948617264571507\n",
            "Support: 1438\n"
          ]
        }
      ]
    },
    {
      "cell_type": "markdown",
      "source": [
        "1/4 e 1/4 com estimators"
      ],
      "metadata": {
        "id": "43UmgI1exEmo"
      }
    },
    {
      "cell_type": "code",
      "source": [
        "def aLDifferentImportanceAndWeightsDifEst(howmany, lista, estimator):   # Load the digits dataset\n",
        "   digits = load_digits()\n",
        "   X = digits.data\n",
        "   y = digits.target\n",
        "\n",
        "   # Split the dataset into a training set and a test set with a test size of 80%\n",
        "   X_train, X_test, y_train, y_test = train_test_split(X, y, test_size=0.8, random_state=42)\n",
        "\n",
        "   # Initialize a list of ActiveLearner objects\n",
        "   learners = [ActiveLearner(estimator=estimator, X_training=X_train, y_training=y_train) for _ in range(howmany)]\n",
        "\n",
        "   # Determine the number of learners to be given more training\n",
        "   num_learners = howmany\n",
        "   num_additional_training = min(num_learners, math.ceil(num_learners / 4) * 3) # Adjusted to not exceed total number of learners\n",
        "\n",
        "   # Create a list of learners to be given more training\n",
        "   additional_training_learners = random.sample(learners, num_additional_training)\n",
        "\n",
        "\n",
        "   # Train the additional learners twice\n",
        "   for learner in additional_training_learners:\n",
        "       learner.fit(X_train, y_train)\n",
        "       learner.fit(X_train, y_train)\n",
        "\n",
        "   # Create a custom Committee class\n",
        "   class CustomCommittee(Committee):\n",
        "       def __init__(self, learner_list, query_strategy, additional_training_learners):\n",
        "           super().__init__(learner_list, query_strategy)\n",
        "           self.additional_training_learners = additional_training_learners\n",
        "\n",
        "       def predict_proba(self, X):\n",
        "           probabilities = super().predict_proba(X)\n",
        "           for learner in self.additional_training_learners:\n",
        "               learner_idx = self.learner_list.index(learner)\n",
        "               probabilities[:, learner_idx] *= 2 # Adjusted to give twice as much weight\n",
        "           return probabilities\n",
        "\n",
        "   # Create a Committee object\n",
        "   committee = CustomCommittee(\n",
        "       learner_list=learners,\n",
        "       query_strategy=vote_entropy_sampling,\n",
        "       additional_training_learners=additional_training_learners\n",
        "   )\n",
        "\n",
        "   # Train the committee\n",
        "   committee.fit(X_train, y_train)\n",
        "\n",
        "   # Store the true labels and the predicted labels for all iterations\n",
        "   true_labels = []\n",
        "   predicted_labels = []\n",
        "\n",
        "   # Iterate through each 20% of the test set\n",
        "   test_set_size = len(X_test)\n",
        "   for start_idx in range(0, test_set_size, int(0.2*test_set_size)):\n",
        "       # Predict the probabilities for the image the model is most unsure about in the current 20% of the test set\n",
        "       X_test_current_20_percent = X_test[start_idx:start_idx+int(0.2*test_set_size)]\n",
        "       predicted_probabilities = committee.predict_proba(X_test_current_20_percent)\n",
        "\n",
        "       # Get the indices of the 5 most uncertain images\n",
        "       most_uncertain_indices = np.argsort(np.std(predicted_probabilities, axis=1))[-5:]\n",
        "\n",
        "       # Use the committee's decision as the true label for training\n",
        "       committee.teach(\n",
        "           X=X_test_current_20_percent[most_uncertain_indices],\n",
        "           y=np.argmax(predicted_probabilities[most_uncertain_indices], axis=1)\n",
        "       )\n",
        "\n",
        "       # Store the true labels and the predicted labels for the current 20% of the test set\n",
        "       true_labels.extend(y_test[start_idx:start_idx+int(0.2*test_set_size)])\n",
        "       predicted_labels.extend(committee.predict(X_test_current_20_percent))\n",
        "\n",
        "   # Print the classification report and the confusion matrix for the true labels and the predicted labels\n",
        "   report = classification_report(true_labels, predicted_labels, output_dict=True)\n",
        "   print(report)\n",
        "   lista.append(report)\n",
        "   print(confusion_matrix(true_labels, predicted_labels))\n",
        "\n",
        "   # Calculate and print the AUC-ROC, log loss, F1 score, precision, recall, and support\n",
        "   print(\"F1 Score:\", report['macro avg']['f1-score'])\n",
        "   print(\"Precision:\", report['macro avg']['precision'])\n",
        "   print(\"Recall:\", report['macro avg']['recall'])\n",
        "   print(\"Support:\", report['macro avg']['support'])\n"
      ],
      "metadata": {
        "id": "SNRlfOX_xGPd"
      },
      "execution_count": null,
      "outputs": []
    },
    {
      "cell_type": "code",
      "source": [
        "aLDifferentImportanceAndWeightsDifEst(3, listaSVC, SVC(probability=True))"
      ],
      "metadata": {
        "colab": {
          "base_uri": "https://localhost:8080/"
        },
        "id": "yF1gDfnWxShE",
        "outputId": "c76f94db-c309-4c60-ce01-0beea85ff284"
      },
      "execution_count": null,
      "outputs": [
        {
          "output_type": "stream",
          "name": "stdout",
          "text": [
            "{'0': {'precision': 0.9852941176470589, 'recall': 1.0, 'f1-score': 0.9925925925925926, 'support': 134}, '1': {'precision': 0.9383561643835616, 'recall': 0.9513888888888888, 'f1-score': 0.9448275862068966, 'support': 144}, '2': {'precision': 0.9102564102564102, 'recall': 0.9861111111111112, 'f1-score': 0.9466666666666667, 'support': 144}, '3': {'precision': 1.0, 'recall': 0.891156462585034, 'f1-score': 0.9424460431654677, 'support': 147}, '4': {'precision': 0.9927536231884058, 'recall': 0.9785714285714285, 'f1-score': 0.9856115107913668, 'support': 140}, '5': {'precision': 0.972972972972973, 'recall': 0.9664429530201343, 'f1-score': 0.9696969696969697, 'support': 149}, '6': {'precision': 0.9932432432432432, 'recall': 0.98, 'f1-score': 0.9865771812080537, 'support': 150}, '7': {'precision': 0.9240506329113924, 'recall': 0.9798657718120806, 'f1-score': 0.9511400651465798, 'support': 149}, '8': {'precision': 0.937984496124031, 'recall': 0.8962962962962963, 'f1-score': 0.9166666666666667, 'support': 135}, '9': {'precision': 0.9256756756756757, 'recall': 0.9383561643835616, 'f1-score': 0.9319727891156463, 'support': 146}, 'accuracy': 0.9568845618915159, 'macro avg': {'precision': 0.9580587336402753, 'recall': 0.9568189076668535, 'f1-score': 0.9568198071256905, 'support': 1438}, 'weighted avg': {'precision': 0.9580213415492965, 'recall': 0.9568845618915159, 'f1-score': 0.9568269000424875, 'support': 1438}}\n",
            "[[134   0   0   0   0   0   0   0   0   0]\n",
            " [  0 137   7   0   0   0   0   0   0   0]\n",
            " [  0   1 142   0   0   0   0   0   1   0]\n",
            " [  0   0   5 131   0   0   0   3   5   3]\n",
            " [  0   0   0   0 137   0   0   3   0   0]\n",
            " [  0   0   0   0   1 144   1   0   0   3]\n",
            " [  2   1   0   0   0   0 147   0   0   0]\n",
            " [  0   1   0   0   0   0   0 146   0   2]\n",
            " [  0   6   2   0   0   2   0   1 121   3]\n",
            " [  0   0   0   0   0   2   0   5   2 137]]\n",
            "F1 Score: 0.9568198071256905\n",
            "Precision: 0.9580587336402753\n",
            "Recall: 0.9568189076668535\n",
            "Support: 1438\n"
          ]
        }
      ]
    },
    {
      "cell_type": "code",
      "source": [
        "aLDifferentImportanceAndWeightsDifEst(3,listaKNeig, KNeighborsClassifier())"
      ],
      "metadata": {
        "colab": {
          "base_uri": "https://localhost:8080/"
        },
        "id": "0cqR2xZrxVcq",
        "outputId": "bcea8c12-42c1-414d-a26f-9a309f3ec8e5"
      },
      "execution_count": null,
      "outputs": [
        {
          "output_type": "stream",
          "name": "stdout",
          "text": [
            "{'0': {'precision': 0.9781021897810219, 'recall': 1.0, 'f1-score': 0.988929889298893, 'support': 134}, '1': {'precision': 0.8910256410256411, 'recall': 0.9652777777777778, 'f1-score': 0.9266666666666667, 'support': 144}, '2': {'precision': 0.9337748344370861, 'recall': 0.9791666666666666, 'f1-score': 0.9559322033898305, 'support': 144}, '3': {'precision': 0.9583333333333334, 'recall': 0.9387755102040817, 'f1-score': 0.9484536082474228, 'support': 147}, '4': {'precision': 0.9925373134328358, 'recall': 0.95, 'f1-score': 0.9708029197080291, 'support': 140}, '5': {'precision': 0.9602649006622517, 'recall': 0.9731543624161074, 'f1-score': 0.9666666666666668, 'support': 149}, '6': {'precision': 1.0, 'recall': 0.9866666666666667, 'f1-score': 0.9932885906040269, 'support': 150}, '7': {'precision': 0.9254658385093167, 'recall': 1.0, 'f1-score': 0.9612903225806452, 'support': 149}, '8': {'precision': 0.936, 'recall': 0.8666666666666667, 'f1-score': 0.9, 'support': 135}, '9': {'precision': 0.9770992366412213, 'recall': 0.8767123287671232, 'f1-score': 0.924187725631769, 'support': 146}, 'accuracy': 0.9541029207232267, 'macro avg': {'precision': 0.9552603287822707, 'recall': 0.953641997916509, 'f1-score': 0.953621859279395, 'support': 1438}, 'weighted avg': {'precision': 0.9552556011572104, 'recall': 0.9541029207232267, 'f1-score': 0.9538499440586747, 'support': 1438}}\n",
            "[[134   0   0   0   0   0   0   0   0   0]\n",
            " [  0 139   5   0   0   0   0   0   0   0]\n",
            " [  0   1 141   0   0   0   0   0   2   0]\n",
            " [  0   0   3 138   0   0   0   2   4   0]\n",
            " [  0   4   0   0 133   0   0   3   0   0]\n",
            " [  0   0   0   2   1 145   0   0   0   1]\n",
            " [  2   0   0   0   0   0 148   0   0   0]\n",
            " [  0   0   0   0   0   0   0 149   0   0]\n",
            " [  0   8   2   1   0   4   0   1 117   2]\n",
            " [  1   4   0   3   0   2   0   6   2 128]]\n",
            "F1 Score: 0.953621859279395\n",
            "Precision: 0.9552603287822707\n",
            "Recall: 0.953641997916509\n",
            "Support: 1438\n"
          ]
        }
      ]
    },
    {
      "cell_type": "code",
      "source": [
        "aLDifferentImportanceAndWeightsDifEst(3,listaGaussianNB, GaussianNB())"
      ],
      "metadata": {
        "colab": {
          "base_uri": "https://localhost:8080/"
        },
        "id": "QLaGr_YSxbix",
        "outputId": "28525950-56f3-4090-bb0e-374e9bfa53f5"
      },
      "execution_count": null,
      "outputs": [
        {
          "output_type": "stream",
          "name": "stdout",
          "text": [
            "{'0': {'precision': 1.0, 'recall': 0.9552238805970149, 'f1-score': 0.9770992366412213, 'support': 134}, '1': {'precision': 0.7125, 'recall': 0.3958333333333333, 'f1-score': 0.5089285714285714, 'support': 144}, '2': {'precision': 0.8144329896907216, 'recall': 0.5486111111111112, 'f1-score': 0.6556016597510373, 'support': 144}, '3': {'precision': 0.9137931034482759, 'recall': 0.7210884353741497, 'f1-score': 0.8060836501901141, 'support': 147}, '4': {'precision': 0.8811188811188811, 'recall': 0.9, 'f1-score': 0.8904593639575972, 'support': 140}, '5': {'precision': 0.868421052631579, 'recall': 0.8859060402684564, 'f1-score': 0.8770764119601329, 'support': 149}, '6': {'precision': 0.965034965034965, 'recall': 0.92, 'f1-score': 0.9419795221843004, 'support': 150}, '7': {'precision': 0.7923497267759563, 'recall': 0.9731543624161074, 'f1-score': 0.8734939759036144, 'support': 149}, '8': {'precision': 0.427536231884058, 'recall': 0.8740740740740741, 'f1-score': 0.5742092457420924, 'support': 135}, '9': {'precision': 0.9, 'recall': 0.7397260273972602, 'f1-score': 0.8120300751879699, 'support': 146}, 'accuracy': 0.7906815020862309, 'macro avg': {'precision': 0.8275186950584436, 'recall': 0.7913617264571507, 'f1-score': 0.7916961712946651, 'support': 1438}, 'weighted avg': {'precision': 0.8295480266135739, 'recall': 0.7906815020862309, 'f1-score': 0.7927599539664585, 'support': 1438}}\n",
            "[[128   2   0   0   1   0   0   1   1   1]\n",
            " [  0  57  10   0   8   1   2   5  59   2]\n",
            " [  0   7  79   2   0   3   2   0  51   0]\n",
            " [  0   2   4 106   0   3   0   4  25   3]\n",
            " [  0   1   2   0 126   0   0  11   0   0]\n",
            " [  0   0   0   1   3 132   0   4   4   5]\n",
            " [  0   3   0   0   2   7 138   0   0   0]\n",
            " [  0   1   0   0   0   1   0 145   1   1]\n",
            " [  0   2   2   3   3   4   0   3 118   0]\n",
            " [  0   5   0   4   0   1   1  10  17 108]]\n",
            "F1 Score: 0.7916961712946651\n",
            "Precision: 0.8275186950584436\n",
            "Recall: 0.7913617264571507\n",
            "Support: 1438\n"
          ]
        }
      ]
    },
    {
      "cell_type": "code",
      "source": [
        "aLDifferentImportanceAndWeightsDifEst(5, listaSVC, SVC(probability=True))"
      ],
      "metadata": {
        "colab": {
          "base_uri": "https://localhost:8080/"
        },
        "id": "dWfmp472xif8",
        "outputId": "fcce546c-c737-421f-8385-e51e8394cde4"
      },
      "execution_count": null,
      "outputs": [
        {
          "output_type": "stream",
          "name": "stdout",
          "text": [
            "{'0': {'precision': 0.9852941176470589, 'recall': 1.0, 'f1-score': 0.9925925925925926, 'support': 134}, '1': {'precision': 0.9387755102040817, 'recall': 0.9583333333333334, 'f1-score': 0.9484536082474228, 'support': 144}, '2': {'precision': 0.9342105263157895, 'recall': 0.9861111111111112, 'f1-score': 0.9594594594594595, 'support': 144}, '3': {'precision': 0.9927536231884058, 'recall': 0.9319727891156463, 'f1-score': 0.9614035087719299, 'support': 147}, '4': {'precision': 0.9790209790209791, 'recall': 1.0, 'f1-score': 0.989399293286219, 'support': 140}, '5': {'precision': 0.9731543624161074, 'recall': 0.9731543624161074, 'f1-score': 0.9731543624161074, 'support': 149}, '6': {'precision': 0.9931972789115646, 'recall': 0.9733333333333334, 'f1-score': 0.9831649831649831, 'support': 150}, '7': {'precision': 0.9539473684210527, 'recall': 0.9731543624161074, 'f1-score': 0.9634551495016611, 'support': 149}, '8': {'precision': 0.9453125, 'recall': 0.8962962962962963, 'f1-score': 0.9201520912547527, 'support': 135}, '9': {'precision': 0.9383561643835616, 'recall': 0.9383561643835616, 'f1-score': 0.9383561643835615, 'support': 146}, 'accuracy': 0.9631432545201669, 'macro avg': {'precision': 0.9634022430508601, 'recall': 0.9630711752405496, 'f1-score': 0.962959121307869, 'support': 1438}, 'weighted avg': {'precision': 0.9634715284608288, 'recall': 0.9631432545201669, 'f1-score': 0.9630314346847215, 'support': 1438}}\n",
            "[[134   0   0   0   0   0   0   0   0   0]\n",
            " [  0 138   6   0   0   0   0   0   0   0]\n",
            " [  0   1 142   0   0   0   0   0   1   0]\n",
            " [  0   0   3 137   0   0   0   1   4   2]\n",
            " [  0   0   0   0 140   0   0   0   0   0]\n",
            " [  0   0   0   0   1 145   1   0   0   2]\n",
            " [  2   2   0   0   0   0 146   0   0   0]\n",
            " [  0   0   0   0   2   0   0 145   0   2]\n",
            " [  0   6   1   1   0   2   0   1 121   3]\n",
            " [  0   0   0   0   0   2   0   5   2 137]]\n",
            "F1 Score: 0.962959121307869\n",
            "Precision: 0.9634022430508601\n",
            "Recall: 0.9630711752405496\n",
            "Support: 1438\n"
          ]
        }
      ]
    },
    {
      "cell_type": "code",
      "source": [
        "aLDifferentImportanceAndWeightsDifEst(5,listaKNeig, KNeighborsClassifier())"
      ],
      "metadata": {
        "colab": {
          "base_uri": "https://localhost:8080/"
        },
        "id": "Cd2J2pu8xjxX",
        "outputId": "63e75e58-5af7-460d-af80-a7d91575aaed"
      },
      "execution_count": null,
      "outputs": [
        {
          "output_type": "stream",
          "name": "stdout",
          "text": [
            "{'0': {'precision': 0.9781021897810219, 'recall': 1.0, 'f1-score': 0.988929889298893, 'support': 134}, '1': {'precision': 0.8910256410256411, 'recall': 0.9652777777777778, 'f1-score': 0.9266666666666667, 'support': 144}, '2': {'precision': 0.9463087248322147, 'recall': 0.9791666666666666, 'f1-score': 0.962457337883959, 'support': 144}, '3': {'precision': 0.9215686274509803, 'recall': 0.9591836734693877, 'f1-score': 0.9400000000000001, 'support': 147}, '4': {'precision': 0.9716312056737588, 'recall': 0.9785714285714285, 'f1-score': 0.9750889679715302, 'support': 140}, '5': {'precision': 0.9602649006622517, 'recall': 0.9731543624161074, 'f1-score': 0.9666666666666668, 'support': 149}, '6': {'precision': 1.0, 'recall': 0.9866666666666667, 'f1-score': 0.9932885906040269, 'support': 150}, '7': {'precision': 0.9490445859872612, 'recall': 1.0, 'f1-score': 0.9738562091503268, 'support': 149}, '8': {'precision': 0.9495798319327731, 'recall': 0.837037037037037, 'f1-score': 0.889763779527559, 'support': 135}, '9': {'precision': 0.9763779527559056, 'recall': 0.8493150684931506, 'f1-score': 0.9084249084249084, 'support': 146}, 'accuracy': 0.9534075104311543, 'macro avg': {'precision': 0.9543903660101808, 'recall': 0.9528372681098223, 'f1-score': 0.9525143016194537, 'support': 1438}, 'weighted avg': {'precision': 0.9543618713962952, 'recall': 0.9534075104311543, 'f1-score': 0.9527971218991301, 'support': 1438}}\n",
            "[[134   0   0   0   0   0   0   0   0   0]\n",
            " [  0 139   5   0   0   0   0   0   0   0]\n",
            " [  0   1 141   0   0   0   0   0   2   0]\n",
            " [  0   0   2 141   0   0   0   1   3   0]\n",
            " [  0   2   0   0 137   0   0   1   0   0]\n",
            " [  0   0   0   2   1 145   0   0   0   1]\n",
            " [  2   0   0   0   0   0 148   0   0   0]\n",
            " [  0   0   0   0   0   0   0 149   0   0]\n",
            " [  0  10   1   4   0   4   0   1 113   2]\n",
            " [  1   4   0   6   3   2   0   5   1 124]]\n",
            "F1 Score: 0.9525143016194537\n",
            "Precision: 0.9543903660101808\n",
            "Recall: 0.9528372681098223\n",
            "Support: 1438\n"
          ]
        }
      ]
    },
    {
      "cell_type": "code",
      "source": [
        "aLDifferentImportanceAndWeightsDifEst(5,listaGaussianNB, GaussianNB())"
      ],
      "metadata": {
        "colab": {
          "base_uri": "https://localhost:8080/"
        },
        "id": "UytfDF8lxlEd",
        "outputId": "4afa547a-4fa6-4285-de9a-578b4da9f628"
      },
      "execution_count": null,
      "outputs": [
        {
          "output_type": "stream",
          "name": "stdout",
          "text": [
            "{'0': {'precision': 1.0, 'recall': 0.9626865671641791, 'f1-score': 0.9809885931558935, 'support': 134}, '1': {'precision': 0.6842105263157895, 'recall': 0.3611111111111111, 'f1-score': 0.4727272727272728, 'support': 144}, '2': {'precision': 0.8448275862068966, 'recall': 0.6805555555555556, 'f1-score': 0.7538461538461538, 'support': 144}, '3': {'precision': 0.905982905982906, 'recall': 0.7210884353741497, 'f1-score': 0.8030303030303031, 'support': 147}, '4': {'precision': 0.9, 'recall': 0.9, 'f1-score': 0.9, 'support': 140}, '5': {'precision': 0.8618421052631579, 'recall': 0.8791946308724832, 'f1-score': 0.8704318936877075, 'support': 149}, '6': {'precision': 0.9583333333333334, 'recall': 0.92, 'f1-score': 0.9387755102040817, 'support': 150}, '7': {'precision': 0.7923497267759563, 'recall': 0.9731543624161074, 'f1-score': 0.8734939759036144, 'support': 149}, '8': {'precision': 0.46124031007751937, 'recall': 0.8814814814814815, 'f1-score': 0.6055979643765903, 'support': 135}, '9': {'precision': 0.8780487804878049, 'recall': 0.7397260273972602, 'f1-score': 0.8029739776951673, 'support': 146}, 'accuracy': 0.8011126564673157, 'macro avg': {'precision': 0.8286835274443364, 'recall': 0.8018998171372328, 'f1-score': 0.8001865644626784, 'support': 1438}, 'weighted avg': {'precision': 0.8303533533854427, 'recall': 0.8011126564673157, 'f1-score': 0.8009566804513012, 'support': 1438}}\n",
            "[[129   1   0   0   1   0   0   1   1   1]\n",
            " [  0  52  13   0   7   1   2   5  60   4]\n",
            " [  0   8  98   1   0   2   2   0  33   0]\n",
            " [  0   2   3 106   0   3   1   4  25   3]\n",
            " [  0   1   1   0 126   0   0  11   0   1]\n",
            " [  0   1   0   2   3 131   0   4   3   5]\n",
            " [  0   3   0   0   1   8 138   0   0   0]\n",
            " [  0   1   0   0   0   1   0 145   1   1]\n",
            " [  0   2   1   3   2   5   0   3 119   0]\n",
            " [  0   5   0   5   0   1   1  10  16 108]]\n",
            "F1 Score: 0.8001865644626784\n",
            "Precision: 0.8286835274443364\n",
            "Recall: 0.8018998171372328\n",
            "Support: 1438\n"
          ]
        }
      ]
    },
    {
      "cell_type": "code",
      "source": [
        "aLDifferentImportanceAndWeightsDifEst(7, listaSVC, SVC(probability=True))"
      ],
      "metadata": {
        "colab": {
          "base_uri": "https://localhost:8080/"
        },
        "id": "p8fmF5QGxnI2",
        "outputId": "5c597558-a9a4-49cb-b69d-89d91a06bd45"
      },
      "execution_count": null,
      "outputs": [
        {
          "output_type": "stream",
          "name": "stdout",
          "text": [
            "{'0': {'precision': 0.9852941176470589, 'recall': 1.0, 'f1-score': 0.9925925925925926, 'support': 134}, '1': {'precision': 0.9459459459459459, 'recall': 0.9722222222222222, 'f1-score': 0.9589041095890412, 'support': 144}, '2': {'precision': 0.9655172413793104, 'recall': 0.9722222222222222, 'f1-score': 0.9688581314878894, 'support': 144}, '3': {'precision': 0.9929078014184397, 'recall': 0.9523809523809523, 'f1-score': 0.9722222222222222, 'support': 147}, '4': {'precision': 0.9790209790209791, 'recall': 1.0, 'f1-score': 0.989399293286219, 'support': 140}, '5': {'precision': 0.9666666666666667, 'recall': 0.9731543624161074, 'f1-score': 0.9698996655518394, 'support': 149}, '6': {'precision': 0.9932432432432432, 'recall': 0.98, 'f1-score': 0.9865771812080537, 'support': 150}, '7': {'precision': 0.9602649006622517, 'recall': 0.9731543624161074, 'f1-score': 0.9666666666666668, 'support': 149}, '8': {'precision': 0.9312977099236641, 'recall': 0.9037037037037037, 'f1-score': 0.9172932330827067, 'support': 135}, '9': {'precision': 0.9448275862068966, 'recall': 0.9383561643835616, 'f1-score': 0.9415807560137458, 'support': 146}, 'accuracy': 0.9666203059805285, 'macro avg': {'precision': 0.9664986192114456, 'recall': 0.9665193989744877, 'f1-score': 0.9663993851700976, 'support': 1438}, 'weighted avg': {'precision': 0.966668847743663, 'recall': 0.9666203059805285, 'f1-score': 0.9665355183415579, 'support': 1438}}\n",
            "[[134   0   0   0   0   0   0   0   0   0]\n",
            " [  0 140   4   0   0   0   0   0   0   0]\n",
            " [  0   1 140   0   0   0   0   0   3   0]\n",
            " [  0   0   1 140   0   0   0   1   4   1]\n",
            " [  0   0   0   0 140   0   0   0   0   0]\n",
            " [  0   0   0   0   1 145   1   0   0   2]\n",
            " [  2   1   0   0   0   0 147   0   0   0]\n",
            " [  0   0   0   0   2   0   0 145   0   2]\n",
            " [  0   6   0   1   0   3   0   0 122   3]\n",
            " [  0   0   0   0   0   2   0   5   2 137]]\n",
            "F1 Score: 0.9663993851700976\n",
            "Precision: 0.9664986192114456\n",
            "Recall: 0.9665193989744877\n",
            "Support: 1438\n"
          ]
        }
      ]
    },
    {
      "cell_type": "code",
      "source": [
        "aLDifferentImportanceAndWeightsDifEst(7,listaKNeig, KNeighborsClassifier())"
      ],
      "metadata": {
        "colab": {
          "base_uri": "https://localhost:8080/"
        },
        "id": "AHm2bnhVxo_v",
        "outputId": "a6762a52-9f74-45a8-a170-e4b9623e9ea8"
      },
      "execution_count": null,
      "outputs": [
        {
          "output_type": "stream",
          "name": "stdout",
          "text": [
            "{'0': {'precision': 0.9852941176470589, 'recall': 1.0, 'f1-score': 0.9925925925925926, 'support': 134}, '1': {'precision': 0.8782051282051282, 'recall': 0.9513888888888888, 'f1-score': 0.9133333333333333, 'support': 144}, '2': {'precision': 0.9463087248322147, 'recall': 0.9791666666666666, 'f1-score': 0.962457337883959, 'support': 144}, '3': {'precision': 0.9155844155844156, 'recall': 0.9591836734693877, 'f1-score': 0.93687707641196, 'support': 147}, '4': {'precision': 0.9924812030075187, 'recall': 0.9428571428571428, 'f1-score': 0.967032967032967, 'support': 140}, '5': {'precision': 0.9477124183006536, 'recall': 0.9731543624161074, 'f1-score': 0.9602649006622517, 'support': 149}, '6': {'precision': 0.9802631578947368, 'recall': 0.9933333333333333, 'f1-score': 0.9867549668874172, 'support': 150}, '7': {'precision': 0.93125, 'recall': 1.0, 'f1-score': 0.964401294498382, 'support': 149}, '8': {'precision': 0.9411764705882353, 'recall': 0.8296296296296296, 'f1-score': 0.8818897637795274, 'support': 135}, '9': {'precision': 0.9841269841269841, 'recall': 0.8493150684931506, 'f1-score': 0.9117647058823529, 'support': 146}, 'accuracy': 0.9485396383866481, 'macro avg': {'precision': 0.9502402620186945, 'recall': 0.9478028765754306, 'f1-score': 0.9477368938964743, 'support': 1438}, 'weighted avg': {'precision': 0.9499610023205872, 'recall': 0.9485396383866481, 'f1-score': 0.9479750229214031, 'support': 1438}}\n",
            "[[134   0   0   0   0   0   0   0   0   0]\n",
            " [  0 137   5   0   0   0   1   0   1   0]\n",
            " [  0   1 141   0   0   0   0   0   2   0]\n",
            " [  0   0   2 141   0   0   0   1   3   0]\n",
            " [  0   5   0   0 132   0   0   3   0   0]\n",
            " [  0   0   0   2   1 145   1   0   0   0]\n",
            " [  1   0   0   0   0   0 149   0   0   0]\n",
            " [  0   0   0   0   0   0   0 149   0   0]\n",
            " [  0   9   1   4   0   5   1   1 112   2]\n",
            " [  1   4   0   7   0   3   0   6   1 124]]\n",
            "F1 Score: 0.9477368938964743\n",
            "Precision: 0.9502402620186945\n",
            "Recall: 0.9478028765754306\n",
            "Support: 1438\n"
          ]
        }
      ]
    },
    {
      "cell_type": "code",
      "source": [
        "aLDifferentImportanceAndWeightsDifEst(7,listaGaussianNB, GaussianNB())"
      ],
      "metadata": {
        "colab": {
          "base_uri": "https://localhost:8080/"
        },
        "id": "VxyrWAZpxqN2",
        "outputId": "391c4c76-3759-431e-88be-707a3c91bf9c"
      },
      "execution_count": null,
      "outputs": [
        {
          "output_type": "stream",
          "name": "stdout",
          "text": [
            "{'0': {'precision': 1.0, 'recall': 0.9552238805970149, 'f1-score': 0.9770992366412213, 'support': 134}, '1': {'precision': 0.6865671641791045, 'recall': 0.3194444444444444, 'f1-score': 0.4360189573459715, 'support': 144}, '2': {'precision': 0.8151260504201681, 'recall': 0.6736111111111112, 'f1-score': 0.7376425855513309, 'support': 144}, '3': {'precision': 0.9166666666666666, 'recall': 0.7482993197278912, 'f1-score': 0.8239700374531835, 'support': 147}, '4': {'precision': 0.8811188811188811, 'recall': 0.9, 'f1-score': 0.8904593639575972, 'support': 140}, '5': {'precision': 0.869281045751634, 'recall': 0.8926174496644296, 'f1-score': 0.8807947019867549, 'support': 149}, '6': {'precision': 0.9523809523809523, 'recall': 0.9333333333333333, 'f1-score': 0.9427609427609427, 'support': 150}, '7': {'precision': 0.7923497267759563, 'recall': 0.9731543624161074, 'f1-score': 0.8734939759036144, 'support': 149}, '8': {'precision': 0.4627450980392157, 'recall': 0.8740740740740741, 'f1-score': 0.6051282051282051, 'support': 135}, '9': {'precision': 0.8861788617886179, 'recall': 0.7465753424657534, 'f1-score': 0.8104089219330854, 'support': 146}, 'accuracy': 0.8011126564673157, 'macro avg': {'precision': 0.8262414447121197, 'recall': 0.8016333317834159, 'f1-score': 0.7977776928661907, 'support': 1438}, 'weighted avg': {'precision': 0.827985602419419, 'recall': 0.8011126564673157, 'f1-score': 0.7987076711134642, 'support': 1438}}\n",
            "[[128   2   0   0   1   0   0   1   1   1]\n",
            " [  0  46  15   0  11   1   3   5  59   4]\n",
            " [  0   8  97   1   0   2   2   0  34   0]\n",
            " [  0   2   3 110   0   4   1   4  21   2]\n",
            " [  0   1   1   0 126   0   0  11   0   1]\n",
            " [  0   0   0   1   2 133   0   4   4   5]\n",
            " [  0   2   0   0   1   7 140   0   0   0]\n",
            " [  0   1   0   0   0   1   0 145   1   1]\n",
            " [  0   1   3   4   2   4   0   3 118   0]\n",
            " [  0   4   0   4   0   1   1  10  17 109]]\n",
            "F1 Score: 0.7977776928661907\n",
            "Precision: 0.8262414447121197\n",
            "Recall: 0.8016333317834159\n",
            "Support: 1438\n"
          ]
        }
      ]
    },
    {
      "cell_type": "markdown",
      "source": [
        "One"
      ],
      "metadata": {
        "id": "-lnWwYEIsw-u"
      }
    },
    {
      "cell_type": "code",
      "source": [
        "def activeLearnerOneDifferentEst(lista, estimator):\n",
        " # Load the digits dataset\n",
        " digits = load_digits()\n",
        " X = digits.data\n",
        " y = digits.target\n",
        "\n",
        " # Split the dataset into a training set and a test set with a test size of 80%\n",
        " X_train, X_test, y_train, y_test = train_test_split(X, y, test_size=0.8, random_state=42)\n",
        "\n",
        " # Initialize a single ActiveLearner object\n",
        " learner = ActiveLearner(estimator=estimator, X_training=X_train, y_training=y_train)\n",
        "\n",
        " # Train the learner\n",
        " learner.fit(X_train, y_train)\n",
        "\n",
        " # Store the true labels and the predicted labels for all iterations\n",
        " true_labels = []\n",
        " predicted_labels = []\n",
        "\n",
        " # Iterate through each 20% of the test set\n",
        " test_set_size = len(X_test)\n",
        " for start_idx in range(0, test_set_size, int(0.2*test_set_size)):\n",
        "     # Predict the probabilities for the image the model is most unsure about in the current 20% of the test set\n",
        "     X_test_current_20_percent = X_test[start_idx:start_idx+int(0.2*test_set_size)]\n",
        "     predicted_probabilities = learner.predict_proba(X_test_current_20_percent)\n",
        "\n",
        "     # Get the indices of the 5 most uncertain images\n",
        "     most_uncertain_indices = np.argsort(np.std(predicted_probabilities, axis=1))[-5:]\n",
        "\n",
        "     # Use the learner's decision as the true label for training\n",
        "     learner.teach(\n",
        "         X=X_test_current_20_percent[most_uncertain_indices],\n",
        "         y=np.argmax(predicted_probabilities[most_uncertain_indices], axis=1)\n",
        "     )\n",
        "\n",
        "     # Store the true labels and the predicted labels for the current 20% of the test set\n",
        "     true_labels.extend(y_test[start_idx:start_idx+int(0.2*test_set_size)])\n",
        "     predicted_labels.extend(learner.predict(X_test_current_20_percent))\n",
        "\n",
        " # Print the classification report and the confusion matrix for the true labels and the predicted labels\n",
        " report = classification_report(true_labels, predicted_labels, output_dict=True)\n",
        " print(report)\n",
        " lista.append(report)\n",
        " print(confusion_matrix(true_labels, predicted_labels))\n",
        "\n",
        " # Calculate and print the AUC-ROC, log loss, F1 score, precision, recall, and support\n",
        "\n",
        " print(\"F1 Score:\", report['macro avg']['f1-score'])\n",
        " print(\"Precision:\", report['macro avg']['precision'])\n",
        " print(\"Recall:\", report['macro avg']['recall'])\n",
        " print(\"Support:\", report['macro avg']['support'])\n",
        "\n"
      ],
      "metadata": {
        "id": "Fr769WxNpiNq"
      },
      "execution_count": null,
      "outputs": []
    },
    {
      "cell_type": "code",
      "source": [
        "# Use SVM as the estimator\n",
        "activeLearnerOneDifferentEst(listaSVC, SVC(probability=True))"
      ],
      "metadata": {
        "colab": {
          "base_uri": "https://localhost:8080/"
        },
        "id": "LfNhowAhql9v",
        "outputId": "26494a7d-8638-4a10-bdc5-0bfd459bdc89"
      },
      "execution_count": null,
      "outputs": [
        {
          "output_type": "stream",
          "name": "stdout",
          "text": [
            "{'0': {'precision': 0.9925925925925926, 'recall': 1.0, 'f1-score': 0.996282527881041, 'support': 134}, '1': {'precision': 0.9455782312925171, 'recall': 0.9652777777777778, 'f1-score': 0.9553264604810997, 'support': 144}, '2': {'precision': 0.9523809523809523, 'recall': 0.9722222222222222, 'f1-score': 0.9621993127147767, 'support': 144}, '3': {'precision': 1.0, 'recall': 0.9115646258503401, 'f1-score': 0.9537366548042704, 'support': 147}, '4': {'precision': 0.9927536231884058, 'recall': 0.9785714285714285, 'f1-score': 0.9856115107913668, 'support': 140}, '5': {'precision': 0.9666666666666667, 'recall': 0.9731543624161074, 'f1-score': 0.9698996655518394, 'support': 149}, '6': {'precision': 0.9932432432432432, 'recall': 0.98, 'f1-score': 0.9865771812080537, 'support': 150}, '7': {'precision': 0.9130434782608695, 'recall': 0.9865771812080537, 'f1-score': 0.9483870967741935, 'support': 149}, '8': {'precision': 0.9384615384615385, 'recall': 0.9037037037037037, 'f1-score': 0.920754716981132, 'support': 135}, '9': {'precision': 0.918918918918919, 'recall': 0.9315068493150684, 'f1-score': 0.9251700680272108, 'support': 146}, 'accuracy': 0.9603616133518776, 'macro avg': {'precision': 0.9613639245005705, 'recall': 0.9602578151064701, 'f1-score': 0.9603945195214985, 'support': 1438}, 'weighted avg': {'precision': 0.9612077920986947, 'recall': 0.9603616133518776, 'f1-score': 0.9603605642110551, 'support': 1438}}\n",
            "[[134   0   0   0   0   0   0   0   0   0]\n",
            " [  0 139   5   0   0   0   0   0   0   0]\n",
            " [  0   1 140   0   0   0   0   0   3   0]\n",
            " [  0   0   2 134   0   0   0   3   4   4]\n",
            " [  0   0   0   0 137   0   0   3   0   0]\n",
            " [  0   0   0   0   1 145   1   0   0   2]\n",
            " [  1   1   0   0   0   1 147   0   0   0]\n",
            " [  0   0   0   0   0   0   0 147   0   2]\n",
            " [  0   6   0   0   0   2   0   1 122   4]\n",
            " [  0   0   0   0   0   2   0   7   1 136]]\n",
            "F1 Score: 0.9603945195214985\n",
            "Precision: 0.9613639245005705\n",
            "Recall: 0.9602578151064701\n",
            "Support: 1438\n"
          ]
        }
      ]
    },
    {
      "cell_type": "code",
      "source": [
        "\n",
        "# Use KNN as the estimator\n",
        "activeLearnerOneDifferentEst(listaKNeig, KNeighborsClassifier())\n"
      ],
      "metadata": {
        "colab": {
          "base_uri": "https://localhost:8080/"
        },
        "id": "d-D1lCM4qc-w",
        "outputId": "1c38be00-1e78-46d7-e971-ce21643c7df4"
      },
      "execution_count": null,
      "outputs": [
        {
          "output_type": "stream",
          "name": "stdout",
          "text": [
            "{'0': {'precision': 0.9925925925925926, 'recall': 1.0, 'f1-score': 0.996282527881041, 'support': 134}, '1': {'precision': 0.9432624113475178, 'recall': 0.9236111111111112, 'f1-score': 0.9333333333333333, 'support': 144}, '2': {'precision': 0.9452054794520548, 'recall': 0.9583333333333334, 'f1-score': 0.9517241379310345, 'support': 144}, '3': {'precision': 0.9652777777777778, 'recall': 0.9455782312925171, 'f1-score': 0.9553264604810997, 'support': 147}, '4': {'precision': 0.9926470588235294, 'recall': 0.9642857142857143, 'f1-score': 0.9782608695652174, 'support': 140}, '5': {'precision': 0.9602649006622517, 'recall': 0.9731543624161074, 'f1-score': 0.9666666666666668, 'support': 149}, '6': {'precision': 0.9933333333333333, 'recall': 0.9933333333333333, 'f1-score': 0.9933333333333333, 'support': 150}, '7': {'precision': 0.93125, 'recall': 1.0, 'f1-score': 0.964401294498382, 'support': 149}, '8': {'precision': 0.8768115942028986, 'recall': 0.8962962962962963, 'f1-score': 0.8864468864468865, 'support': 135}, '9': {'precision': 0.9708029197080292, 'recall': 0.910958904109589, 'f1-score': 0.9399293286219081, 'support': 146}, 'accuracy': 0.9568845618915159, 'macro avg': {'precision': 0.9571448067899986, 'recall': 0.9565551286178001, 'f1-score': 0.9565704838758903, 'support': 1438}, 'weighted avg': {'precision': 0.9574100952326928, 'recall': 0.9568845618915159, 'f1-score': 0.9568628538878311, 'support': 1438}}\n",
            "[[134   0   0   0   0   0   0   0   0   0]\n",
            " [  0 133   5   0   0   0   1   0   5   0]\n",
            " [  0   1 138   0   0   0   0   0   5   0]\n",
            " [  0   0   2 139   0   0   0   2   4   0]\n",
            " [  0   2   0   0 135   0   0   2   1   0]\n",
            " [  0   0   0   1   1 145   0   0   0   2]\n",
            " [  1   0   0   0   0   0 149   0   0   0]\n",
            " [  0   0   0   0   0   0   0 149   0   0]\n",
            " [  0   5   1   1   0   4   0   1 121   2]\n",
            " [  0   0   0   3   0   2   0   6   2 133]]\n",
            "F1 Score: 0.9565704838758903\n",
            "Precision: 0.9571448067899986\n",
            "Recall: 0.9565551286178001\n",
            "Support: 1438\n"
          ]
        }
      ]
    },
    {
      "cell_type": "code",
      "source": [
        "\n",
        "# Use Naive Bayes as the estimator\n",
        "activeLearnerOneDifferentEst(listaGaussianNB, GaussianNB())"
      ],
      "metadata": {
        "colab": {
          "base_uri": "https://localhost:8080/"
        },
        "id": "j0tgKOpcqeBA",
        "outputId": "e65282d5-5d55-4897-a40e-7c24065b7a45"
      },
      "execution_count": null,
      "outputs": [
        {
          "output_type": "stream",
          "name": "stdout",
          "text": [
            "{'0': {'precision': 1.0, 'recall': 0.9552238805970149, 'f1-score': 0.9770992366412213, 'support': 134}, '1': {'precision': 0.6956521739130435, 'recall': 0.3333333333333333, 'f1-score': 0.4507042253521127, 'support': 144}, '2': {'precision': 0.8290598290598291, 'recall': 0.6736111111111112, 'f1-score': 0.7432950191570881, 'support': 144}, '3': {'precision': 0.9145299145299145, 'recall': 0.7278911564625851, 'f1-score': 0.8106060606060606, 'support': 147}, '4': {'precision': 0.8689655172413793, 'recall': 0.9, 'f1-score': 0.8842105263157896, 'support': 140}, '5': {'precision': 0.8741721854304636, 'recall': 0.8859060402684564, 'f1-score': 0.8800000000000001, 'support': 149}, '6': {'precision': 0.9583333333333334, 'recall': 0.92, 'f1-score': 0.9387755102040817, 'support': 150}, '7': {'precision': 0.7487179487179487, 'recall': 0.9798657718120806, 'f1-score': 0.8488372093023255, 'support': 149}, '8': {'precision': 0.4581673306772908, 'recall': 0.8518518518518519, 'f1-score': 0.5958549222797926, 'support': 135}, '9': {'precision': 0.8842975206611571, 'recall': 0.7328767123287672, 'f1-score': 0.801498127340824, 'support': 146}, 'accuracy': 0.7955493741307371, 'macro avg': {'precision': 0.8231895753564361, 'recall': 0.7960559857765201, 'f1-score': 0.7930880837199296, 'support': 1438}, 'weighted avg': {'precision': 0.8248750041195136, 'recall': 0.7955493741307371, 'f1-score': 0.7939415614247156, 'support': 1438}}\n",
            "[[128   2   0   0   1   0   0   1   1   1]\n",
            " [  0  48  13   0  11   1   2   7  58   4]\n",
            " [  0   7  97   1   0   2   2   0  35   0]\n",
            " [  0   2   3 107   0   3   1   5  23   3]\n",
            " [  0   1   1   0 126   0   0  11   0   1]\n",
            " [  0   0   0   1   3 132   0   6   3   4]\n",
            " [  0   3   0   0   2   7 138   0   0   0]\n",
            " [  0   1   0   0   0   1   0 146   0   1]\n",
            " [  0   1   3   3   2   4   0   7 115   0]\n",
            " [  0   4   0   5   0   1   1  12  16 107]]\n",
            "F1 Score: 0.7930880837199296\n",
            "Precision: 0.8231895753564361\n",
            "Recall: 0.7960559857765201\n",
            "Support: 1438\n"
          ]
        }
      ]
    },
    {
      "cell_type": "code",
      "source": [
        "valoresNovos = [[],[],[]]\n",
        "listas = [\n",
        "listaSVC,\n",
        "listaKNeig,\n",
        "listaGaussianNB]\n",
        "for j in range(len(listas)):\n",
        "  for i in listas[j]:\n",
        "    new_dict = {}\n",
        "    for key in ['accuracy', 'macro avg', 'weighted avg']:\n",
        "      new_dict[key] = i[key]\n",
        "    valoresNovos[j].append(new_dict)"
      ],
      "metadata": {
        "id": "AJTV-irPN8J2"
      },
      "execution_count": null,
      "outputs": []
    },
    {
      "cell_type": "code",
      "source": [
        "tipos = [\"All same importance - 3\", \"All same importance - 5\", \"All same importance - 7\", \"Twice more importance on 1/4 of AL - 3\", \"Twice more importance on 1/4 of AL - 5\", \"Twice more importance on 1/4 of AL - 7\", \"3 times more importance on 1/4, twice more importance on another 1/4 - 3\", \"3 times more importance on 1/4, twice more importance on another 1/4 - 5\", \"3 times more importance on 1/4, twice more importance on another 1/4 - 7\", \"Solo AL\" ]\n",
        "estimadores = [\"SVC\", \"KNeig\", \"Gaussian\"]\n",
        "\n",
        "for i in range(len(valoresNovos)):\n",
        "  print(estimadores[i])\n",
        "  for j in range(len(valoresNovos[i])):\n",
        "    print(tipos[j])\n",
        "    print(valoresNovos[i][j])\n",
        "    print(\"\\n\")"
      ],
      "metadata": {
        "colab": {
          "base_uri": "https://localhost:8080/"
        },
        "id": "IUvzhrU7OKp1",
        "outputId": "e5a53c4a-b3c3-4ad9-b550-bef43f9fc8d5"
      },
      "execution_count": null,
      "outputs": [
        {
          "output_type": "stream",
          "name": "stdout",
          "text": [
            "SVC\n",
            "All same importance - 3\n",
            "{'accuracy': 0.958970792767733, 'macro avg': {'precision': 0.9594831026711553, 'recall': 0.9588968891204341, 'f1-score': 0.9588478659569655, 'support': 1438}, 'weighted avg': {'precision': 0.9596954266129555, 'recall': 0.958970792767733, 'f1-score': 0.9589839839634772, 'support': 1438}}\n",
            "\n",
            "\n",
            "All same importance - 5\n",
            "{'accuracy': 0.96105702364395, 'macro avg': {'precision': 0.9617567772175022, 'recall': 0.9609937023076215, 'f1-score': 0.9609897982979522, 'support': 1438}, 'weighted avg': {'precision': 0.9618217143664946, 'recall': 0.96105702364395, 'f1-score': 0.9610459783935592, 'support': 1438}}\n",
            "\n",
            "\n",
            "All same importance - 7\n",
            "{'accuracy': 0.9603616133518776, 'macro avg': {'precision': 0.9609324277559994, 'recall': 0.9603182837383674, 'f1-score': 0.9602598241877844, 'support': 1438}, 'weighted avg': {'precision': 0.9610891588603523, 'recall': 0.9603616133518776, 'f1-score': 0.9603518349557613, 'support': 1438}}\n",
            "\n",
            "\n",
            "Twice more importance on 1/4 of AL - 3\n",
            "{'accuracy': 0.958970792767733, 'macro avg': {'precision': 0.959865039718211, 'recall': 0.9589771990221726, 'f1-score': 0.9589411677663403, 'support': 1438}, 'weighted avg': {'precision': 0.959966811736194, 'recall': 0.958970792767733, 'f1-score': 0.95898111488861, 'support': 1438}}\n",
            "\n",
            "\n",
            "Twice more importance on 1/4 of AL - 5\n",
            "{'accuracy': 0.96105702364395, 'macro avg': {'precision': 0.9613334821021733, 'recall': 0.96101990499345, 'f1-score': 0.9608632424384334, 'support': 1438}, 'weighted avg': {'precision': 0.9615763721500113, 'recall': 0.96105702364395, 'f1-score': 0.9609971775829372, 'support': 1438}}\n",
            "\n",
            "\n",
            "Twice more importance on 1/4 of AL - 7\n",
            "{'accuracy': 0.958970792767733, 'macro avg': {'precision': 0.9598032600580689, 'recall': 0.9588877579511881, 'f1-score': 0.9588500482991684, 'support': 1438}, 'weighted avg': {'precision': 0.9599063021616168, 'recall': 0.958970792767733, 'f1-score': 0.95893543240139, 'support': 1438}}\n",
            "\n",
            "\n",
            "3 times more importance on 1/4, twice more importance on another 1/4 - 3\n",
            "{'accuracy': 0.9568845618915159, 'macro avg': {'precision': 0.9580587336402753, 'recall': 0.9568189076668535, 'f1-score': 0.9568198071256905, 'support': 1438}, 'weighted avg': {'precision': 0.9580213415492965, 'recall': 0.9568845618915159, 'f1-score': 0.9568269000424875, 'support': 1438}}\n",
            "\n",
            "\n",
            "3 times more importance on 1/4, twice more importance on another 1/4 - 5\n",
            "{'accuracy': 0.9631432545201669, 'macro avg': {'precision': 0.9634022430508601, 'recall': 0.9630711752405496, 'f1-score': 0.962959121307869, 'support': 1438}, 'weighted avg': {'precision': 0.9634715284608288, 'recall': 0.9631432545201669, 'f1-score': 0.9630314346847215, 'support': 1438}}\n",
            "\n",
            "\n",
            "3 times more importance on 1/4, twice more importance on another 1/4 - 7\n",
            "{'accuracy': 0.9666203059805285, 'macro avg': {'precision': 0.9664986192114456, 'recall': 0.9665193989744877, 'f1-score': 0.9663993851700976, 'support': 1438}, 'weighted avg': {'precision': 0.966668847743663, 'recall': 0.9666203059805285, 'f1-score': 0.9665355183415579, 'support': 1438}}\n",
            "\n",
            "\n",
            "Solo AL\n",
            "{'accuracy': 0.9603616133518776, 'macro avg': {'precision': 0.9613639245005705, 'recall': 0.9602578151064701, 'f1-score': 0.9603945195214985, 'support': 1438}, 'weighted avg': {'precision': 0.9612077920986947, 'recall': 0.9603616133518776, 'f1-score': 0.9603605642110551, 'support': 1438}}\n",
            "\n",
            "\n",
            "KNeig\n",
            "All same importance - 3\n",
            "{'accuracy': 0.9568845618915159, 'macro avg': {'precision': 0.9571448067899986, 'recall': 0.9565551286178001, 'f1-score': 0.9565704838758903, 'support': 1438}, 'weighted avg': {'precision': 0.9574100952326928, 'recall': 0.9568845618915159, 'f1-score': 0.9568628538878311, 'support': 1438}}\n",
            "\n",
            "\n",
            "All same importance - 5\n",
            "{'accuracy': 0.9568845618915159, 'macro avg': {'precision': 0.9571448067899986, 'recall': 0.9565551286178001, 'f1-score': 0.9565704838758903, 'support': 1438}, 'weighted avg': {'precision': 0.9574100952326928, 'recall': 0.9568845618915159, 'f1-score': 0.9568628538878311, 'support': 1438}}\n",
            "\n",
            "\n",
            "All same importance - 7\n",
            "{'accuracy': 0.9568845618915159, 'macro avg': {'precision': 0.9571448067899986, 'recall': 0.9565551286178001, 'f1-score': 0.9565704838758903, 'support': 1438}, 'weighted avg': {'precision': 0.9574100952326928, 'recall': 0.9568845618915159, 'f1-score': 0.9568628538878311, 'support': 1438}}\n",
            "\n",
            "\n",
            "Twice more importance on 1/4 of AL - 3\n",
            "{'accuracy': 0.954798331015299, 'macro avg': {'precision': 0.9550471562095548, 'recall': 0.9545232583354405, 'f1-score': 0.9544197272867697, 'support': 1438}, 'weighted avg': {'precision': 0.9553944419085376, 'recall': 0.954798331015299, 'f1-score': 0.9547253257008637, 'support': 1438}}\n",
            "\n",
            "\n",
            "Twice more importance on 1/4 of AL - 5\n",
            "{'accuracy': 0.9582753824756607, 'macro avg': {'precision': 0.9587471160927071, 'recall': 0.9579837000463716, 'f1-score': 0.9579403951183354, 'support': 1438}, 'weighted avg': {'precision': 0.958826452851837, 'recall': 0.9582753824756607, 'f1-score': 0.9581187187244975, 'support': 1438}}\n",
            "\n",
            "\n",
            "Twice more importance on 1/4 of AL - 7\n",
            "{'accuracy': 0.9554937413073713, 'macro avg': {'precision': 0.9560099711359218, 'recall': 0.9550503436314717, 'f1-score': 0.9551198403197436, 'support': 1438}, 'weighted avg': {'precision': 0.9561277085512221, 'recall': 0.9554937413073713, 'f1-score': 0.9553911633128228, 'support': 1438}}\n",
            "\n",
            "\n",
            "3 times more importance on 1/4, twice more importance on another 1/4 - 3\n",
            "{'accuracy': 0.9541029207232267, 'macro avg': {'precision': 0.9552603287822707, 'recall': 0.953641997916509, 'f1-score': 0.953621859279395, 'support': 1438}, 'weighted avg': {'precision': 0.9552556011572104, 'recall': 0.9541029207232267, 'f1-score': 0.9538499440586747, 'support': 1438}}\n",
            "\n",
            "\n",
            "3 times more importance on 1/4, twice more importance on another 1/4 - 5\n",
            "{'accuracy': 0.9534075104311543, 'macro avg': {'precision': 0.9543903660101808, 'recall': 0.9528372681098223, 'f1-score': 0.9525143016194537, 'support': 1438}, 'weighted avg': {'precision': 0.9543618713962952, 'recall': 0.9534075104311543, 'f1-score': 0.9527971218991301, 'support': 1438}}\n",
            "\n",
            "\n",
            "3 times more importance on 1/4, twice more importance on another 1/4 - 7\n",
            "{'accuracy': 0.9485396383866481, 'macro avg': {'precision': 0.9502402620186945, 'recall': 0.9478028765754306, 'f1-score': 0.9477368938964743, 'support': 1438}, 'weighted avg': {'precision': 0.9499610023205872, 'recall': 0.9485396383866481, 'f1-score': 0.9479750229214031, 'support': 1438}}\n",
            "\n",
            "\n",
            "Solo AL\n",
            "{'accuracy': 0.9568845618915159, 'macro avg': {'precision': 0.9571448067899986, 'recall': 0.9565551286178001, 'f1-score': 0.9565704838758903, 'support': 1438}, 'weighted avg': {'precision': 0.9574100952326928, 'recall': 0.9568845618915159, 'f1-score': 0.9568628538878311, 'support': 1438}}\n",
            "\n",
            "\n",
            "Gaussian\n",
            "All same importance - 3\n",
            "{'accuracy': 0.7962447844228094, 'macro avg': {'precision': 0.8236295834211868, 'recall': 0.7967504302209646, 'f1-score': 0.7940264616239683, 'support': 1438}, 'weighted avg': {'precision': 0.8252703477452624, 'recall': 0.7962447844228094, 'f1-score': 0.7948541759971379, 'support': 1438}}\n",
            "\n",
            "\n",
            "All same importance - 5\n",
            "{'accuracy': 0.7962447844228094, 'macro avg': {'precision': 0.8236295834211868, 'recall': 0.7967504302209646, 'f1-score': 0.7940264616239683, 'support': 1438}, 'weighted avg': {'precision': 0.8252703477452624, 'recall': 0.7962447844228094, 'f1-score': 0.7948541759971379, 'support': 1438}}\n",
            "\n",
            "\n",
            "All same importance - 7\n",
            "{'accuracy': 0.7962447844228094, 'macro avg': {'precision': 0.8236295834211868, 'recall': 0.7967504302209646, 'f1-score': 0.7940264616239683, 'support': 1438}, 'weighted avg': {'precision': 0.8252703477452624, 'recall': 0.7962447844228094, 'f1-score': 0.7948541759971379, 'support': 1438}}\n",
            "\n",
            "\n",
            "Twice more importance on 1/4 of AL - 3\n",
            "{'accuracy': 0.7962447844228094, 'macro avg': {'precision': 0.8251493986084995, 'recall': 0.7969077690751112, 'f1-score': 0.7946609694014257, 'support': 1438}, 'weighted avg': {'precision': 0.8270289223575804, 'recall': 0.7962447844228094, 'f1-score': 0.7956076498776052, 'support': 1438}}\n",
            "\n",
            "\n",
            "Twice more importance on 1/4 of AL - 5\n",
            "{'accuracy': 0.7913769123783032, 'macro avg': {'precision': 0.8207158711023912, 'recall': 0.7921220004297534, 'f1-score': 0.7910242519342161, 'support': 1438}, 'weighted avg': {'precision': 0.8224647752515898, 'recall': 0.7913769123783032, 'f1-score': 0.7918683455124698, 'support': 1438}}\n",
            "\n",
            "\n",
            "Twice more importance on 1/4 of AL - 7\n",
            "{'accuracy': 0.7941585535465925, 'macro avg': {'precision': 0.8228797905841798, 'recall': 0.7948617264571507, 'f1-score': 0.7931313482501972, 'support': 1438}, 'weighted avg': {'precision': 0.8248096284559032, 'recall': 0.7941585535465925, 'f1-score': 0.7940927849987386, 'support': 1438}}\n",
            "\n",
            "\n",
            "3 times more importance on 1/4, twice more importance on another 1/4 - 3\n",
            "{'accuracy': 0.7906815020862309, 'macro avg': {'precision': 0.8275186950584436, 'recall': 0.7913617264571507, 'f1-score': 0.7916961712946651, 'support': 1438}, 'weighted avg': {'precision': 0.8295480266135739, 'recall': 0.7906815020862309, 'f1-score': 0.7927599539664585, 'support': 1438}}\n",
            "\n",
            "\n",
            "3 times more importance on 1/4, twice more importance on another 1/4 - 5\n",
            "{'accuracy': 0.8011126564673157, 'macro avg': {'precision': 0.8286835274443364, 'recall': 0.8018998171372328, 'f1-score': 0.8001865644626784, 'support': 1438}, 'weighted avg': {'precision': 0.8303533533854427, 'recall': 0.8011126564673157, 'f1-score': 0.8009566804513012, 'support': 1438}}\n",
            "\n",
            "\n",
            "3 times more importance on 1/4, twice more importance on another 1/4 - 7\n",
            "{'accuracy': 0.8011126564673157, 'macro avg': {'precision': 0.8262414447121197, 'recall': 0.8016333317834159, 'f1-score': 0.7977776928661907, 'support': 1438}, 'weighted avg': {'precision': 0.827985602419419, 'recall': 0.8011126564673157, 'f1-score': 0.7987076711134642, 'support': 1438}}\n",
            "\n",
            "\n",
            "Solo AL\n",
            "{'accuracy': 0.7955493741307371, 'macro avg': {'precision': 0.8231895753564361, 'recall': 0.7960559857765201, 'f1-score': 0.7930880837199296, 'support': 1438}, 'weighted avg': {'precision': 0.8248750041195136, 'recall': 0.7955493741307371, 'f1-score': 0.7939415614247156, 'support': 1438}}\n",
            "\n",
            "\n"
          ]
        }
      ]
    },
    {
      "cell_type": "code",
      "source": [
        "valores = []\n",
        "for i in lista:\n",
        " new_dict = {}\n",
        " for key in ['accuracy', 'macro avg', 'weighted avg']:\n",
        "   new_dict[key] = i[key]\n",
        " valores.append(new_dict)\n",
        "tipos = [\"All same importance - 3\", \"All same importance - 5\", \"All same importance - 7\", \"Twice more importance on 1/4 of AL - 3\", \"Twice more importance on 1/4 of AL - 5\", \"Twice more importance on 1/4 of AL - 7\", \"3 times more importance on 1/4, twice more importance on another 1/4 - 3\", \"3 times more importance on 1/4, twice more importance on another 1/4 - 5\", \"3 times more importance on 1/4, twice more importance on another 1/4 - 7\", \"Solo AL\" ]\n",
        "for i in range(len(valores)):\n",
        "  print(tipos[i])\n",
        "  print(valores[i])\n",
        "  print(\"\\n\")"
      ],
      "metadata": {
        "colab": {
          "base_uri": "https://localhost:8080/"
        },
        "id": "rPM9FLd1Tf9H",
        "outputId": "d68363a4-4b2b-416f-ada3-b3d4ab8dc053"
      },
      "execution_count": null,
      "outputs": [
        {
          "output_type": "stream",
          "name": "stdout",
          "text": [
            "All same importance - 3\n",
            "{'accuracy': 0.935326842837274, 'macro avg': {'precision': 0.9361412984986593, 'recall': 0.9353261609556238, 'f1-score': 0.9351716896402621, 'support': 1438}, 'weighted avg': {'precision': 0.936939274936329, 'recall': 0.935326842837274, 'f1-score': 0.9355708343948983, 'support': 1438}}\n",
            "\n",
            "\n",
            "All same importance - 5\n",
            "{'accuracy': 0.9408901251738526, 'macro avg': {'precision': 0.9422681630627698, 'recall': 0.9411181590152123, 'f1-score': 0.9409396343804008, 'support': 1438}, 'weighted avg': {'precision': 0.9430737471322251, 'recall': 0.9408901251738526, 'f1-score': 0.9412398052572062, 'support': 1438}}\n",
            "\n",
            "\n",
            "All same importance - 7\n",
            "{'accuracy': 0.9422809457579973, 'macro avg': {'precision': 0.943161660294658, 'recall': 0.9422373372259634, 'f1-score': 0.9421089402613051, 'support': 1438}, 'weighted avg': {'precision': 0.9437786338331006, 'recall': 0.9422809457579973, 'f1-score': 0.9424336471255969, 'support': 1438}}\n",
            "\n",
            "\n",
            "Twice more importance on 1/4 of AL - 3\n",
            "{'accuracy': 0.9394993045897079, 'macro avg': {'precision': 0.9401880885237379, 'recall': 0.9392154820607617, 'f1-score': 0.9390278655133549, 'support': 1438}, 'weighted avg': {'precision': 0.9406466725609622, 'recall': 0.9394993045897079, 'f1-score': 0.9393924517791563, 'support': 1438}}\n",
            "\n",
            "\n",
            "Twice more importance on 1/4 of AL - 5\n",
            "{'accuracy': 0.9367176634214186, 'macro avg': {'precision': 0.9380701545254476, 'recall': 0.9366208653923197, 'f1-score': 0.936418964929574, 'support': 1438}, 'weighted avg': {'precision': 0.9386729791101054, 'recall': 0.9367176634214186, 'f1-score': 0.9367583865412316, 'support': 1438}}\n",
            "\n",
            "\n",
            "Twice more importance on 1/4 of AL - 7\n",
            "{'accuracy': 0.9408901251738526, 'macro avg': {'precision': 0.941963289603736, 'recall': 0.9408519158215327, 'f1-score': 0.9407137881237511, 'support': 1438}, 'weighted avg': {'precision': 0.9423260843857161, 'recall': 0.9408901251738526, 'f1-score': 0.9409071378371399, 'support': 1438}}\n",
            "\n",
            "\n",
            "3 times more importance on 1/4, twice more importance on another 1/4 - 3\n",
            "{'accuracy': 0.9165507649513213, 'macro avg': {'precision': 0.9217423873129216, 'recall': 0.9164784395478028, 'f1-score': 0.9166083729567299, 'support': 1438}, 'weighted avg': {'precision': 0.9222725530050676, 'recall': 0.9165507649513213, 'f1-score': 0.9169099499700797, 'support': 1438}}\n",
            "\n",
            "\n",
            "3 times more importance on 1/4, twice more importance on another 1/4 - 5\n",
            "{'accuracy': 0.9269819193324061, 'macro avg': {'precision': 0.9291468451262999, 'recall': 0.9268741999571131, 'f1-score': 0.9265237165183523, 'support': 1438}, 'weighted avg': {'precision': 0.9294974793533615, 'recall': 0.9269819193324061, 'f1-score': 0.926790741334412, 'support': 1438}}\n",
            "\n",
            "\n",
            "3 times more importance on 1/4, twice more importance on another 1/4 - 7\n",
            "{'accuracy': 0.9318497913769124, 'macro avg': {'precision': 0.9339817219738966, 'recall': 0.9310521675721048, 'f1-score': 0.9308277380254374, 'support': 1438}, 'weighted avg': {'precision': 0.933996786834134, 'recall': 0.9318497913769124, 'f1-score': 0.9312677346200984, 'support': 1438}}\n",
            "\n",
            "\n",
            "Solo AL\n",
            "{'accuracy': 0.9262865090403338, 'macro avg': {'precision': 0.928106401948608, 'recall': 0.926251016644582, 'f1-score': 0.9261511694006199, 'support': 1438}, 'weighted avg': {'precision': 0.9286655150799455, 'recall': 0.9262865090403338, 'f1-score': 0.9264291319381472, 'support': 1438}}\n",
            "\n",
            "\n"
          ]
        }
      ]
    },
    {
      "cell_type": "code",
      "source": [
        "valoresAccuracy = []\n",
        "for i in valoresNovos:\n",
        "  accuracy_values = [d['accuracy'] for d in i]\n",
        "  valoresAccuracy.append(accuracy_values)"
      ],
      "metadata": {
        "id": "R-Mv7DajUynM"
      },
      "execution_count": null,
      "outputs": []
    },
    {
      "cell_type": "code",
      "source": [
        "accuracy_values_rf = [d['accuracy'] for d in valores]\n",
        "valoresAccuracy.append(accuracy_values_rf)"
      ],
      "metadata": {
        "id": "Gg2_DtNBVk9j"
      },
      "execution_count": null,
      "outputs": []
    },
    {
      "cell_type": "code",
      "source": [
        "valoresf1 = []\n",
        "for i in valoresNovos:\n",
        "  f1_score_values = [d['weighted avg']['f1-score'] for d in i]\n",
        "  valoresf1.append(f1_score_values)\n",
        "\n",
        "f1_score_values_rf = [d['weighted avg']['f1-score'] for d in valores]\n",
        "valoresf1.append(f1_score_values_rf)"
      ],
      "metadata": {
        "id": "uC5Jrp_yWU4w"
      },
      "execution_count": null,
      "outputs": []
    },
    {
      "cell_type": "code",
      "source": [
        "valoresAccuracy #svc, knei, gaussian, rf"
      ],
      "metadata": {
        "colab": {
          "base_uri": "https://localhost:8080/"
        },
        "id": "Jf6FsC4AV4yA",
        "outputId": "78eb1b66-d647-457a-a92b-bc83b8da3fb7"
      },
      "execution_count": null,
      "outputs": [
        {
          "output_type": "execute_result",
          "data": {
            "text/plain": [
              "[[0.958970792767733,\n",
              "  0.96105702364395,\n",
              "  0.9603616133518776,\n",
              "  0.958970792767733,\n",
              "  0.96105702364395,\n",
              "  0.958970792767733,\n",
              "  0.9568845618915159,\n",
              "  0.9631432545201669,\n",
              "  0.9666203059805285,\n",
              "  0.9603616133518776],\n",
              " [0.9568845618915159,\n",
              "  0.9568845618915159,\n",
              "  0.9568845618915159,\n",
              "  0.954798331015299,\n",
              "  0.9582753824756607,\n",
              "  0.9554937413073713,\n",
              "  0.9541029207232267,\n",
              "  0.9534075104311543,\n",
              "  0.9485396383866481,\n",
              "  0.9568845618915159],\n",
              " [0.7962447844228094,\n",
              "  0.7962447844228094,\n",
              "  0.7962447844228094,\n",
              "  0.7962447844228094,\n",
              "  0.7913769123783032,\n",
              "  0.7941585535465925,\n",
              "  0.7906815020862309,\n",
              "  0.8011126564673157,\n",
              "  0.8011126564673157,\n",
              "  0.7955493741307371],\n",
              " [0.935326842837274,\n",
              "  0.9408901251738526,\n",
              "  0.9422809457579973,\n",
              "  0.9394993045897079,\n",
              "  0.9367176634214186,\n",
              "  0.9408901251738526,\n",
              "  0.9165507649513213,\n",
              "  0.9269819193324061,\n",
              "  0.9318497913769124,\n",
              "  0.9262865090403338]]"
            ]
          },
          "metadata": {},
          "execution_count": 61
        }
      ]
    },
    {
      "cell_type": "code",
      "source": [
        "categories = [\"same3\", \"same5\", \"same7\", \"dif3\", \"dif5\", \"dif7\", \"difdif3\", \"difdif5\", \"difdif7\", \"solo\"]\n",
        "data_dict = {category: [] for category in categories}\n",
        "\n",
        "for sublist in valoresf1:\n",
        "   for i, value in enumerate(sublist):\n",
        "       category = categories[i]\n",
        "       data_dict[category].append(value)\n",
        "\n",
        "final_data = [data_dict[category] for category in categories]\n"
      ],
      "metadata": {
        "id": "5EGhLM9JZ4uN"
      },
      "execution_count": null,
      "outputs": []
    },
    {
      "cell_type": "code",
      "source": [
        "final_data"
      ],
      "metadata": {
        "colab": {
          "base_uri": "https://localhost:8080/"
        },
        "id": "F6m97MSwaCYQ",
        "outputId": "a286e11c-e87e-48b0-fc33-46c738a61c6e"
      },
      "execution_count": null,
      "outputs": [
        {
          "output_type": "execute_result",
          "data": {
            "text/plain": [
              "[[0.9589839839634772,\n",
              "  0.9568628538878311,\n",
              "  0.7948541759971379,\n",
              "  0.9355708343948983],\n",
              " [0.9610459783935592,\n",
              "  0.9568628538878311,\n",
              "  0.7948541759971379,\n",
              "  0.9412398052572062],\n",
              " [0.9603518349557613,\n",
              "  0.9568628538878311,\n",
              "  0.7948541759971379,\n",
              "  0.9424336471255969],\n",
              " [0.95898111488861,\n",
              "  0.9547253257008637,\n",
              "  0.7956076498776052,\n",
              "  0.9393924517791563],\n",
              " [0.9609971775829372,\n",
              "  0.9581187187244975,\n",
              "  0.7918683455124698,\n",
              "  0.9367583865412316],\n",
              " [0.95893543240139,\n",
              "  0.9553911633128228,\n",
              "  0.7940927849987386,\n",
              "  0.9409071378371399],\n",
              " [0.9568269000424875,\n",
              "  0.9538499440586747,\n",
              "  0.7927599539664585,\n",
              "  0.9169099499700797],\n",
              " [0.9630314346847215,\n",
              "  0.9527971218991301,\n",
              "  0.8009566804513012,\n",
              "  0.926790741334412],\n",
              " [0.9665355183415579,\n",
              "  0.9479750229214031,\n",
              "  0.7987076711134642,\n",
              "  0.9312677346200984],\n",
              " [0.9603605642110551,\n",
              "  0.9568628538878311,\n",
              "  0.7939415614247156,\n",
              "  0.9264291319381472]]"
            ]
          },
          "metadata": {},
          "execution_count": 63
        }
      ]
    },
    {
      "cell_type": "code",
      "source": [
        "final_data.pop() #svc, kneig, gaussian, rf"
      ],
      "metadata": {
        "colab": {
          "base_uri": "https://localhost:8080/"
        },
        "id": "J5iXQMK7bU6L",
        "outputId": "4823c3fe-56f2-4d8d-feb4-5b7e13661cce"
      },
      "execution_count": null,
      "outputs": [
        {
          "output_type": "execute_result",
          "data": {
            "text/plain": [
              "[0.9603605642110551,\n",
              " 0.9568628538878311,\n",
              " 0.7939415614247156,\n",
              " 0.9264291319381472]"
            ]
          },
          "metadata": {},
          "execution_count": 64
        }
      ]
    },
    {
      "cell_type": "code",
      "source": [
        "allsame= final_data[:3]\n",
        "dif = final_data[3:6]\n",
        "difdif = final_data[6:]"
      ],
      "metadata": {
        "id": "eCNNVmOVbYSn"
      },
      "execution_count": null,
      "outputs": []
    },
    {
      "cell_type": "code",
      "source": [
        "import matplotlib.pyplot as plt\n",
        "\n",
        "\n",
        "colors = ['blue', 'green', 'red', 'purple']\n",
        "fig, ax = plt.subplots() # create a figure and an axes\n",
        "\n",
        "# iterate over the data and colors\n",
        "for i in range(len(allsame[0])):\n",
        "  ax.plot([3, 5, 7], [allsame[0][i], allsame[1][i], allsame[2][i]], marker='o', linestyle='-', color=colors[i], label=['svc', 'k-nearest neighbours', 'Gaussian Naive Bayes', \"random forest\"][i])\n",
        "\n",
        "# add a legend\n",
        "ax.legend()\n",
        "ax.set_title('f1 score where all the members have same weight')\n",
        "# show the plot\n",
        "plt.show()\n"
      ],
      "metadata": {
        "colab": {
          "base_uri": "https://localhost:8080/",
          "height": 452
        },
        "id": "F9z9uAAcqTsU",
        "outputId": "c14fbdbf-0f94-44e7-cfd9-df05cfd05fd9"
      },
      "execution_count": null,
      "outputs": [
        {
          "output_type": "display_data",
          "data": {
            "text/plain": [
              "<Figure size 640x480 with 1 Axes>"
            ],
            "image/png": "[encoded data removed]"
          },
          "metadata": {}
        }
      ]
    },
    {
      "cell_type": "code",
      "source": [
        "\n",
        "colors = ['blue', 'green', 'red', 'purple']\n",
        "fig, ax = plt.subplots() # create a figure and an axes\n",
        "\n",
        "# iterate over the data and colors\n",
        "for i in range(len(dif[0])):\n",
        "  ax.plot([3, 5, 7], [dif[0][i], dif[1][i], dif[2][i]], marker='o', linestyle='-', color=colors[i], label=['svc', 'k-nearest neighbours', 'Gaussian Naive Bayes', \"random forest\"][i])\n",
        "\n",
        "# add a legend\n",
        "ax.legend()\n",
        "ax.set_title('f1 score where 1/4 with weight 1.5, 3/4 with weight 1')\n",
        "# show the plot\n",
        "plt.show()\n"
      ],
      "metadata": {
        "colab": {
          "base_uri": "https://localhost:8080/",
          "height": 452
        },
        "id": "wCgJd4xTqeHn",
        "outputId": "ee31038e-2de8-45eb-a0e7-a2fb0680e87a"
      },
      "execution_count": null,
      "outputs": [
        {
          "output_type": "display_data",
          "data": {
            "text/plain": [
              "<Figure size 640x480 with 1 Axes>"
            ],
            "image/png": "[encoded data removed]"
          },
          "metadata": {}
        }
      ]
    },
    {
      "cell_type": "code",
      "source": [
        "\n",
        "colors = ['blue', 'green', 'red', 'purple']\n",
        "fig, ax = plt.subplots() # create a figure and an axes\n",
        "\n",
        "# iterate over the data and colors\n",
        "for i in range(len(difdif[0])):\n",
        "  ax.plot([3, 5, 7], [difdif[0][i], difdif[1][i], difdif[2][i]], marker='o', linestyle='-', color=colors[i], label=['svc', 'k-nearest neighbours', 'Gaussian Naive Bayes', \"random forest\"][i])\n",
        "\n",
        "# add a legend\n",
        "ax.legend()\n",
        "ax.set_title('f1 score where 1/4 with weight 1.5, 1/4 with weight 2, 1/2 with weight 1')\n",
        "# show the plot\n",
        "plt.show()\n"
      ],
      "metadata": {
        "colab": {
          "base_uri": "https://localhost:8080/",
          "height": 452
        },
        "id": "fmPK_zl0qmeA",
        "outputId": "b0a25655-2aa9-410c-e913-db235ffeacb3"
      },
      "execution_count": null,
      "outputs": [
        {
          "output_type": "display_data",
          "data": {
            "text/plain": [
              "<Figure size 640x480 with 1 Axes>"
            ],
            "image/png": "[encoded data removed]"
          },
          "metadata": {}
        }
      ]
    },
    {
      "cell_type": "code",
      "source": [
        "categories = [\"same3\", \"same5\", \"same7\", \"dif3\", \"dif5\", \"dif7\", \"difdif3\", \"difdif5\", \"difdif7\", \"solo\"]\n",
        "data_dict = {category: [] for category in categories}\n",
        "\n",
        "for sublist in valoresAccuracy:\n",
        "   for i, value in enumerate(sublist):\n",
        "       category = categories[i]\n",
        "       data_dict[category].append(value)\n",
        "\n",
        "final_dataac = [data_dict[category] for category in categories]"
      ],
      "metadata": {
        "id": "_Pg_2AXX9ChI"
      },
      "execution_count": null,
      "outputs": []
    },
    {
      "cell_type": "code",
      "source": [
        "final_dataac.pop() #svc, knei, gaussian, rf"
      ],
      "metadata": {
        "colab": {
          "base_uri": "https://localhost:8080/"
        },
        "id": "ZRrYadjq9FFC",
        "outputId": "6af4a88d-f520-42eb-81f4-6372d1e53d63"
      },
      "execution_count": null,
      "outputs": [
        {
          "output_type": "execute_result",
          "data": {
            "text/plain": [
              "[0.9603616133518776,\n",
              " 0.9568845618915159,\n",
              " 0.7955493741307371,\n",
              " 0.9262865090403338]"
            ]
          },
          "metadata": {},
          "execution_count": 70
        }
      ]
    },
    {
      "cell_type": "code",
      "source": [
        "allsameac= final_dataac[:3]\n",
        "difac = final_dataac[3:6]\n",
        "difdifac = final_dataac[6:]"
      ],
      "metadata": {
        "id": "plVjoYfz9GXG"
      },
      "execution_count": null,
      "outputs": []
    },
    {
      "cell_type": "code",
      "source": [
        "import matplotlib.pyplot as plt\n",
        "\n",
        "\n",
        "colors = ['blue', 'green', 'red', 'purple']\n",
        "fig, ax = plt.subplots() # create a figure and an axes\n",
        "\n",
        "# iterate over the data and colors\n",
        "for i in range(len(allsameac[0])):\n",
        "  ax.plot([3, 5, 7], [allsameac[0][i], allsameac[1][i], allsameac[2][i]], marker='o', linestyle='-', color=colors[i], label=['svc', 'k-nearest neighbours', 'Gaussian Naive Bayes', \"random forest\"][i])\n",
        "\n",
        "# add a legend\n",
        "ax.legend()\n",
        "ax.set_title('accuracy where all members have the same weight')\n",
        "\n",
        "# show the plot\n",
        "plt.show()\n"
      ],
      "metadata": {
        "colab": {
          "base_uri": "https://localhost:8080/",
          "height": 452
        },
        "id": "CFy3g5uh9G8g",
        "outputId": "09dd5aba-0334-450f-cef1-594a5efab634"
      },
      "execution_count": null,
      "outputs": [
        {
          "output_type": "display_data",
          "data": {
            "text/plain": [
              "<Figure size 640x480 with 1 Axes>"
            ],
            "image/png": "[encoded data removed]"
          },
          "metadata": {}
        }
      ]
    },
    {
      "cell_type": "code",
      "source": [
        "\n",
        "colors = ['blue', 'green', 'red', 'purple']\n",
        "fig, ax = plt.subplots() # create a figure and an axes\n",
        "\n",
        "# iterate over the data and colors\n",
        "for i in range(len(difac[0])):\n",
        "  ax.plot([3, 5, 7], [difac[0][i], difac[1][i], difac[2][i]], marker='o', linestyle='-', color=colors[i], label=['svc', 'k-nearest neighbours', 'Gaussian Naive Bayes', \"random forest\"][i])\n",
        "\n",
        "# add a legend\n",
        "ax.legend()\n",
        "ax.set_title('accuracy where 1/4 with weight 1.5. 3/4 with weight 1')\n",
        "# show the plot\n",
        "plt.show()\n"
      ],
      "metadata": {
        "colab": {
          "base_uri": "https://localhost:8080/",
          "height": 452
        },
        "id": "fCtCswCg9HeO",
        "outputId": "f3ff2d04-a7c8-429b-e84d-a4420f1f35aa"
      },
      "execution_count": null,
      "outputs": [
        {
          "output_type": "display_data",
          "data": {
            "text/plain": [
              "<Figure size 640x480 with 1 Axes>"
            ],
            "image/png": "[encoded data removed]"
          },
          "metadata": {}
        }
      ]
    },
    {
      "cell_type": "code",
      "source": [
        "\n",
        "colors = ['blue', 'green', 'red', 'purple']\n",
        "fig, ax = plt.subplots() # create a figure and an axes\n",
        "\n",
        "# iterate over the data and colors\n",
        "for i in range(len(difdifac[0])):\n",
        "  ax.plot([3, 5, 7], [difdifac[0][i], difdifac[1][i], difdifac[2][i]], marker='o', linestyle='-', color=colors[i], label=['svc', 'k-nearest neighbours', 'Gaussian Naive Bayes', \"random forest\"][i])\n",
        "\n",
        "# add a legend\n",
        "ax.legend()\n",
        "ax.set_title('accuracy where 1/4 with weight 1.5, 1/4 with weight 2, 1/2 with weight 1')\n",
        "\n",
        "# show the plot\n",
        "plt.show()\n"
      ],
      "metadata": {
        "colab": {
          "base_uri": "https://localhost:8080/",
          "height": 452
        },
        "id": "o90h2-yG9IJv",
        "outputId": "de7e6725-6c18-47b7-bdda-390ea255eb8c"
      },
      "execution_count": null,
      "outputs": [
        {
          "output_type": "display_data",
          "data": {
            "text/plain": [
              "<Figure size 640x480 with 1 Axes>"
            ],
            "image/png": "[encoded data removed]"
          },
          "metadata": {}
        }
      ]
    }
  ]
}